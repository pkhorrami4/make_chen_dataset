{
 "metadata": {
  "name": "",
  "signature": "sha256:f9d7519b9d04f6eb31161e39c9fabca458d4f82e507175a31dc076b63d2d669f"
 },
 "nbformat": 3,
 "nbformat_minor": 0,
 "worksheets": [
  {
   "cells": [
    {
     "cell_type": "code",
     "collapsed": false,
     "input": [
      "import cv2\n",
      "import os\n",
      "import numpy"
     ],
     "language": "python",
     "metadata": {},
     "outputs": [],
     "prompt_number": 1
    },
    {
     "cell_type": "code",
     "collapsed": false,
     "input": [
      "def generate_clip(X, y, clip_num, img_dims, save_path):\n",
      "    clip_nums_int = numpy.array([int(val) for val in y[1, :]])\n",
      "    print clip_nums_int\n",
      "    clip_mask = (clip_nums_int == clip_num)\n",
      "    print numpy.sum(clip_mask)\n",
      "    \n",
      "    clip = X[clip_mask, :, :, :]\n",
      "    print clip.shape\n",
      "    \n",
      "    clip_list = list(clip)\n",
      "    clip_list = [frame.transpose(1,2,0) for frame in clip_list]\n",
      "    \n",
      "    # Define the codec and create VideoWriter object    \n",
      "    if not os.path.exists(save_path):\n",
      "        os.makedirs(save_path)\n",
      "    \n",
      "    out = cv2.VideoWriter(os.path.join(save_path, 'clip_'+str(clip_num)+'.avi'),\n",
      "                          cv2.cv.CV_FOURCC('M', 'J', 'P', 'G'), 30.0, img_dims)\n",
      "\n",
      "    for frame in clip_list:\n",
      "        out.write(frame[:, :, ::-1])\n",
      "\n",
      "    out.release()"
     ],
     "language": "python",
     "metadata": {},
     "outputs": [],
     "prompt_number": 2
    },
    {
     "cell_type": "code",
     "collapsed": false,
     "input": [
      "all_subjs = ['03', '26', '46', '61', '68', '81', '82', '85', '87', '90', \n",
      "             '04', '07', '16', '18', '19', '31', '37', '56', '78', '94']"
     ],
     "language": "python",
     "metadata": {},
     "outputs": [],
     "prompt_number": 3
    },
    {
     "cell_type": "code",
     "collapsed": false,
     "input": [
      "img_dims = (96, 96)\n",
      "\n",
      "for subj_id in all_subjs:\n",
      "    X = numpy.load('/data/Expr_Recog/Chen_Huang_avdata_python/npy_files/indiv/npy_files_clean/X_'+subj_id+'.npy')\n",
      "    y = numpy.load('/data/Expr_Recog/Chen_Huang_avdata_python/npy_files/indiv/npy_files_clean/y_'+subj_id+'.npy')\n",
      "    print X.shape, y.shape\n",
      "    \n",
      "    save_path = os.path.join('./clips/', 'clips_'+subj_id+'/')\n",
      "    \n",
      "    for i in range(33):\n",
      "        print 'Processing clip %d' % i\n",
      "        generate_clip(X, y, i, img_dims, save_path)"
     ],
     "language": "python",
     "metadata": {},
     "outputs": [
      {
       "output_type": "stream",
       "stream": "stdout",
       "text": [
        "(2429, 3, 96, 96) (4, 2429)\n",
        "Processing clip 0\n",
        "[ 0  0  0 ..., 32 32 32]\n",
        "78\n",
        "(78, 3, 96, 96)\n",
        "Processing clip 1\n",
        "[ 0  0  0 ..., 32 32 32]\n",
        "81\n",
        "(81, 3, 96, 96)\n",
        "Processing clip 2"
       ]
      },
      {
       "output_type": "stream",
       "stream": "stdout",
       "text": [
        "\n",
        "[ 0  0  0 ..., 32 32 32]\n",
        "77\n",
        "(77, 3, 96, 96)\n",
        "Processing clip 3\n",
        "[ 0  0  0 ..., 32 32 32]\n",
        "61\n",
        "(61, 3, 96, 96)\n",
        "Processing clip 4\n",
        "[ 0  0  0 ..., 32 32 32]\n",
        "55\n",
        "(55, 3, 96, 96)\n",
        "Processing clip 5"
       ]
      },
      {
       "output_type": "stream",
       "stream": "stdout",
       "text": [
        "\n",
        "[ 0  0  0 ..., 32 32 32]\n",
        "65\n",
        "(65, 3, 96, 96)\n",
        "Processing clip 6\n",
        "[ 0  0  0 ..., 32 32 32]\n",
        "73\n",
        "(73, 3, 96, 96)\n",
        "Processing clip 7\n",
        "[ 0  0  0 ..., 32 32 32]\n",
        "72\n",
        "(72, 3, 96, 96)\n",
        "Processing clip 8"
       ]
      },
      {
       "output_type": "stream",
       "stream": "stdout",
       "text": [
        "\n",
        "[ 0  0  0 ..., 32 32 32]\n",
        "68\n",
        "(68, 3, 96, 96)\n",
        "Processing clip 9\n",
        "[ 0  0  0 ..., 32 32 32]\n",
        "87\n",
        "(87, 3, 96, 96)\n",
        "Processing clip 10\n",
        "[ 0  0  0 ..., 32 32 32]\n",
        "94\n",
        "(94, 3, 96, 96)\n",
        "Processing clip 11"
       ]
      },
      {
       "output_type": "stream",
       "stream": "stdout",
       "text": [
        "\n",
        "[ 0  0  0 ..., 32 32 32]\n",
        "96\n",
        "(96, 3, 96, 96)\n",
        "Processing clip 12\n",
        "[ 0  0  0 ..., 32 32 32]\n",
        "93\n",
        "(93, 3, 96, 96)\n",
        "Processing clip 13\n",
        "[ 0  0  0 ..., 32 32 32]"
       ]
      },
      {
       "output_type": "stream",
       "stream": "stdout",
       "text": [
        "\n",
        "80\n",
        "(80, 3, 96, 96)\n",
        "Processing clip 14\n",
        "[ 0  0  0 ..., 32 32 32]\n",
        "93\n",
        "(93, 3, 96, 96)\n",
        "Processing clip 15\n",
        "[ 0  0  0 ..., 32 32 32]\n",
        "77\n",
        "(77, 3, 96, 96)\n",
        "Processing clip 16"
       ]
      },
      {
       "output_type": "stream",
       "stream": "stdout",
       "text": [
        "\n",
        "[ 0  0  0 ..., 32 32 32]\n",
        "76\n",
        "(76, 3, 96, 96)\n",
        "Processing clip 17\n",
        "[ 0  0  0 ..., 32 32 32]\n",
        "76\n",
        "(76, 3, 96, 96)\n",
        "Processing clip 18\n",
        "[ 0  0  0 ..., 32 32 32]\n",
        "84\n",
        "(84, 3, 96, 96)\n",
        "Processing clip 19"
       ]
      },
      {
       "output_type": "stream",
       "stream": "stdout",
       "text": [
        "\n",
        "[ 0  0  0 ..., 32 32 32]\n",
        "77\n",
        "(77, 3, 96, 96)\n",
        "Processing clip 20\n",
        "[ 0  0  0 ..., 32 32 32]\n",
        "76\n",
        "(76, 3, 96, 96)\n",
        "Processing clip 21\n",
        "[ 0  0  0 ..., 32 32 32]\n",
        "62\n",
        "(62, 3, 96, 96)\n",
        "Processing clip 22"
       ]
      },
      {
       "output_type": "stream",
       "stream": "stdout",
       "text": [
        "\n",
        "[ 0  0  0 ..., 32 32 32]\n",
        "58\n",
        "(58, 3, 96, 96)\n",
        "Processing clip 23\n",
        "[ 0  0  0 ..., 32 32 32]\n",
        "60\n",
        "(60, 3, 96, 96)\n",
        "Processing clip 24\n",
        "[ 0  0  0 ..., 32 32 32]\n",
        "69\n",
        "(69, 3, 96, 96)\n",
        "Processing clip 25\n",
        "[ 0  0  0 ..., 32 32 32]"
       ]
      },
      {
       "output_type": "stream",
       "stream": "stdout",
       "text": [
        "\n",
        "83\n",
        "(83, 3, 96, 96)\n",
        "Processing clip 26\n",
        "[ 0  0  0 ..., 32 32 32]\n",
        "72\n",
        "(72, 3, 96, 96)\n",
        "Processing clip 27\n",
        "[ 0  0  0 ..., 32 32 32]\n",
        "70\n",
        "(70, 3, 96, 96)\n",
        "Processing clip 28"
       ]
      },
      {
       "output_type": "stream",
       "stream": "stdout",
       "text": [
        "\n",
        "[ 0  0  0 ..., 32 32 32]\n",
        "68\n",
        "(68, 3, 96, 96)\n",
        "Processing clip 29\n",
        "[ 0  0  0 ..., 32 32 32]\n",
        "62\n",
        "(62, 3, 96, 96)\n",
        "Processing clip 30\n",
        "[ 0  0  0 ..., 32 32 32]\n",
        "59\n",
        "(59, 3, 96, 96)\n",
        "Processing clip 31"
       ]
      },
      {
       "output_type": "stream",
       "stream": "stdout",
       "text": [
        "\n",
        "[ 0  0  0 ..., 32 32 32]\n",
        "68\n",
        "(68, 3, 96, 96)\n",
        "Processing clip 32\n",
        "[ 0  0  0 ..., 32 32 32]\n",
        "59\n",
        "(59, 3, 96, 96)\n",
        "(2567, 3, 96, 96) (4, 2567)\n",
        "Processing clip 0\n",
        "[ 0  0  0 ..., 32 32 32]"
       ]
      },
      {
       "output_type": "stream",
       "stream": "stdout",
       "text": [
        "\n",
        "89\n",
        "(89, 3, 96, 96)\n",
        "Processing clip 1\n",
        "[ 0  0  0 ..., 32 32 32]\n",
        "102\n",
        "(102, 3, 96, 96)\n",
        "Processing clip 2\n",
        "[ 0  0  0 ..., 32 32 32]\n",
        "102\n",
        "(102, 3, 96, 96)\n",
        "Processing clip 3"
       ]
      },
      {
       "output_type": "stream",
       "stream": "stdout",
       "text": [
        "\n",
        "[ 0  0  0 ..., 32 32 32]\n",
        "87\n",
        "(87, 3, 96, 96)\n",
        "Processing clip 4\n",
        "[ 0  0  0 ..., 32 32 32]\n",
        "95\n",
        "(95, 3, 96, 96)\n",
        "Processing clip 5\n",
        "[ 0  0  0 ..., 32 32 32]\n",
        "87\n",
        "(87, 3, 96, 96)\n",
        "Processing clip 6"
       ]
      },
      {
       "output_type": "stream",
       "stream": "stdout",
       "text": [
        "\n",
        "[ 0  0  0 ..., 32 32 32]\n",
        "71\n",
        "(71, 3, 96, 96)\n",
        "Processing clip 7\n",
        "[ 0  0  0 ..., 32 32 32]\n",
        "74\n",
        "(74, 3, 96, 96)\n",
        "Processing clip 8\n",
        "[ 0  0  0 ..., 32 32 32]\n",
        "79\n",
        "(79, 3, 96, 96)\n",
        "Processing clip 9"
       ]
      },
      {
       "output_type": "stream",
       "stream": "stdout",
       "text": [
        "\n",
        "[ 0  0  0 ..., 32 32 32]\n",
        "57\n",
        "(57, 3, 96, 96)\n",
        "Processing clip 10\n",
        "[ 0  0  0 ..., 32 32 32]\n",
        "69\n",
        "(69, 3, 96, 96)\n",
        "Processing clip 11\n",
        "[ 0  0  0 ..., 32 32 32]\n",
        "71\n",
        "(71, 3, 96, 96)\n",
        "Processing clip 12\n",
        "[ 0  0  0 ..., 32 32 32]\n",
        "71\n",
        "(71, 3, 96, 96)\n",
        "Processing clip 13"
       ]
      },
      {
       "output_type": "stream",
       "stream": "stdout",
       "text": [
        "\n",
        "[ 0  0  0 ..., 32 32 32]\n",
        "83\n",
        "(83, 3, 96, 96)\n",
        "Processing clip 14\n",
        "[ 0  0  0 ..., 32 32 32]\n",
        "66\n",
        "(66, 3, 96, 96)\n",
        "Processing clip 15\n",
        "[ 0  0  0 ..., 32 32 32]\n",
        "62\n",
        "(62, 3, 96, 96)\n",
        "Processing clip 16"
       ]
      },
      {
       "output_type": "stream",
       "stream": "stdout",
       "text": [
        "\n",
        "[ 0  0  0 ..., 32 32 32]\n",
        "66\n",
        "(66, 3, 96, 96)\n",
        "Processing clip 17\n",
        "[ 0  0  0 ..., 32 32 32]\n",
        "66\n",
        "(66, 3, 96, 96)\n",
        "Processing clip 18\n",
        "[ 0  0  0 ..., 32 32 32]\n",
        "95\n",
        "(95, 3, 96, 96)\n",
        "Processing clip 19"
       ]
      },
      {
       "output_type": "stream",
       "stream": "stdout",
       "text": [
        "\n",
        "[ 0  0  0 ..., 32 32 32]\n",
        "98\n",
        "(98, 3, 96, 96)\n",
        "Processing clip 20\n",
        "[ 0  0  0 ..., 32 32 32]\n",
        "101\n",
        "(101, 3, 96, 96)\n",
        "Processing clip 21\n",
        "[ 0  0  0 ..., 32 32 32]\n",
        "83\n",
        "(83, 3, 96, 96)\n",
        "Processing clip 22"
       ]
      },
      {
       "output_type": "stream",
       "stream": "stdout",
       "text": [
        "\n",
        "[ 0  0  0 ..., 32 32 32]\n",
        "87\n",
        "(87, 3, 96, 96)\n",
        "Processing clip 23\n",
        "[ 0  0  0 ..., 32 32 32]\n",
        "94\n",
        "(94, 3, 96, 96)\n",
        "Processing clip 24\n",
        "[ 0  0  0 ..., 32 32 32]\n",
        "69\n",
        "(69, 3, 96, 96)\n",
        "Processing clip 25"
       ]
      },
      {
       "output_type": "stream",
       "stream": "stdout",
       "text": [
        "\n",
        "[ 0  0  0 ..., 32 32 32]\n",
        "71\n",
        "(71, 3, 96, 96)\n",
        "Processing clip 26\n",
        "[ 0  0  0 ..., 32 32 32]\n",
        "74\n",
        "(74, 3, 96, 96)\n",
        "Processing clip 27\n",
        "[ 0  0  0 ..., 32 32 32]\n",
        "66\n",
        "(66, 3, 96, 96)\n",
        "Processing clip 28\n",
        "[ 0  0  0 ..., 32 32 32]"
       ]
      },
      {
       "output_type": "stream",
       "stream": "stdout",
       "text": [
        "\n",
        "73\n",
        "(73, 3, 96, 96)\n",
        "Processing clip 29\n",
        "[ 0  0  0 ..., 32 32 32]\n",
        "63\n",
        "(63, 3, 96, 96)\n",
        "Processing clip 30\n",
        "[ 0  0  0 ..., 32 32 32]\n",
        "63\n",
        "(63, 3, 96, 96)\n",
        "Processing clip 31\n",
        "[ 0  0  0 ..., 32 32 32]\n",
        "65\n",
        "(65, 3, 96, 96)\n",
        "Processing clip 32"
       ]
      },
      {
       "output_type": "stream",
       "stream": "stdout",
       "text": [
        "\n",
        "[ 0  0  0 ..., 32 32 32]\n",
        "68\n",
        "(68, 3, 96, 96)\n",
        "(2669, 3, 96, 96) (4, 2669)\n",
        "Processing clip 0\n",
        "[ 0  0  0 ..., 32 32 32]\n",
        "91\n",
        "(91, 3, 96, 96)\n",
        "Processing clip 1"
       ]
      },
      {
       "output_type": "stream",
       "stream": "stdout",
       "text": [
        "\n",
        "[ 0  0  0 ..., 32 32 32]\n",
        "93\n",
        "(93, 3, 96, 96)\n",
        "Processing clip 2\n",
        "[ 0  0  0 ..., 32 32 32]\n",
        "87\n",
        "(87, 3, 96, 96)\n",
        "Processing clip 3\n",
        "[ 0  0  0 ..., 32 32 32]\n",
        "115\n",
        "(115, 3, 96, 96)\n",
        "Processing clip 4"
       ]
      },
      {
       "output_type": "stream",
       "stream": "stdout",
       "text": [
        "\n",
        "[ 0  0  0 ..., 32 32 32]\n",
        "92\n",
        "(92, 3, 96, 96)\n",
        "Processing clip 5\n",
        "[ 0  0  0 ..., 32 32 32]\n",
        "89\n",
        "(89, 3, 96, 96)\n",
        "Processing clip 6\n",
        "[ 0  0  0 ..., 32 32 32]\n",
        "79\n",
        "(79, 3, 96, 96)\n",
        "Processing clip 7"
       ]
      },
      {
       "output_type": "stream",
       "stream": "stdout",
       "text": [
        "\n",
        "[ 0  0  0 ..., 32 32 32]\n",
        "73\n",
        "(73, 3, 96, 96)\n",
        "Processing clip 8\n",
        "[ 0  0  0 ..., 32 32 32]\n",
        "66\n",
        "(66, 3, 96, 96)\n",
        "Processing clip 9\n",
        "[ 0  0  0 ..., 32 32 32]\n",
        "86\n",
        "(86, 3, 96, 96)\n",
        "Processing clip 10"
       ]
      },
      {
       "output_type": "stream",
       "stream": "stdout",
       "text": [
        "\n",
        "[ 0  0  0 ..., 32 32 32]\n",
        "75\n",
        "(75, 3, 96, 96)\n",
        "Processing clip 11\n",
        "[ 0  0  0 ..., 32 32 32]\n",
        "81\n",
        "(81, 3, 96, 96)\n",
        "Processing clip 12\n",
        "[ 0  0  0 ..., 32 32 32]\n",
        "81\n",
        "(81, 3, 96, 96)\n",
        "Processing clip 13"
       ]
      },
      {
       "output_type": "stream",
       "stream": "stdout",
       "text": [
        "\n",
        "[ 0  0  0 ..., 32 32 32]\n",
        "80\n",
        "(80, 3, 96, 96)\n",
        "Processing clip 14\n",
        "[ 0  0  0 ..., 32 32 32]\n",
        "82\n",
        "(82, 3, 96, 96)\n",
        "Processing clip 15\n",
        "[ 0  0  0 ..., 32 32 32]\n",
        "64\n",
        "(64, 3, 96, 96)\n",
        "Processing clip 16"
       ]
      },
      {
       "output_type": "stream",
       "stream": "stdout",
       "text": [
        "\n",
        "[ 0  0  0 ..., 32 32 32]\n",
        "65\n",
        "(65, 3, 96, 96)\n",
        "Processing clip 17\n",
        "[ 0  0  0 ..., 32 32 32]\n",
        "64\n",
        "(64, 3, 96, 96)\n",
        "Processing clip 18\n",
        "[ 0  0  0 ..., 32 32 32]\n",
        "92\n",
        "(92, 3, 96, 96)\n",
        "Processing clip 19"
       ]
      },
      {
       "output_type": "stream",
       "stream": "stdout",
       "text": [
        "\n",
        "[ 0  0  0 ..., 32 32 32]\n",
        "94\n",
        "(94, 3, 96, 96)\n",
        "Processing clip 20\n",
        "[ 0  0  0 ..., 32 32 32]\n",
        "93\n",
        "(93, 3, 96, 96)\n",
        "Processing clip 21\n",
        "[ 0  0  0 ..., 32 32 32]\n",
        "107"
       ]
      },
      {
       "output_type": "stream",
       "stream": "stdout",
       "text": [
        "\n",
        "(107, 3, 96, 96)\n",
        "Processing clip 22\n",
        "[ 0  0  0 ..., 32 32 32]\n",
        "98\n",
        "(98, 3, 96, 96)\n",
        "Processing clip 23"
       ]
      },
      {
       "output_type": "stream",
       "stream": "stdout",
       "text": [
        "\n",
        "[ 0  0  0 ..., 32 32 32]\n",
        "87\n",
        "(87, 3, 96, 96)\n",
        "Processing clip 24\n",
        "[ 0  0  0 ..., 32 32 32]\n",
        "79\n",
        "(79, 3, 96, 96)\n",
        "Processing clip 25\n",
        "[ 0  0  0 ..., 32 32 32]\n",
        "71\n",
        "(71, 3, 96, 96)\n",
        "Processing clip 26"
       ]
      },
      {
       "output_type": "stream",
       "stream": "stdout",
       "text": [
        "\n",
        "[ 0  0  0 ..., 32 32 32]\n",
        "72\n",
        "(72, 3, 96, 96)\n",
        "Processing clip 27\n",
        "[ 0  0  0 ..., 32 32 32]\n",
        "70\n",
        "(70, 3, 96, 96)\n",
        "Processing clip 28\n",
        "[ 0  0  0 ..., 32 32 32]\n",
        "63\n",
        "(63, 3, 96, 96)\n",
        "Processing clip 29"
       ]
      },
      {
       "output_type": "stream",
       "stream": "stdout",
       "text": [
        "\n",
        "[ 0  0  0 ..., 32 32 32]\n",
        "63\n",
        "(63, 3, 96, 96)\n",
        "Processing clip 30\n",
        "[ 0  0  0 ..., 32 32 32]\n",
        "84\n",
        "(84, 3, 96, 96)\n",
        "Processing clip 31\n",
        "[ 0  0  0 ..., 32 32 32]\n",
        "67\n",
        "(67, 3, 96, 96)\n",
        "Processing clip 32"
       ]
      },
      {
       "output_type": "stream",
       "stream": "stdout",
       "text": [
        "\n",
        "[ 0  0  0 ..., 32 32 32]\n",
        "66\n",
        "(66, 3, 96, 96)\n",
        "(2518, 3, 96, 96) (4, 2518)\n",
        "Processing clip 0\n",
        "[ 0  0  0 ..., 32 32 32]\n",
        "79\n",
        "(79, 3, 96, 96)\n",
        "Processing clip 1"
       ]
      },
      {
       "output_type": "stream",
       "stream": "stdout",
       "text": [
        "\n",
        "[ 0  0  0 ..., 32 32 32]\n",
        "75\n",
        "(75, 3, 96, 96)\n",
        "Processing clip 2\n",
        "[ 0  0  0 ..., 32 32 32]\n",
        "75\n",
        "(75, 3, 96, 96)\n",
        "Processing clip 3\n",
        "[ 0  0  0 ..., 32 32 32]\n",
        "81\n",
        "(81, 3, 96, 96)\n",
        "Processing clip 4"
       ]
      },
      {
       "output_type": "stream",
       "stream": "stdout",
       "text": [
        "\n",
        "[ 0  0  0 ..., 32 32 32]\n",
        "63\n",
        "(63, 3, 96, 96)\n",
        "Processing clip 5\n",
        "[ 0  0  0 ..., 32 32 32]\n",
        "52\n",
        "(52, 3, 96, 96)\n",
        "Processing clip 6\n",
        "[ 0  0  0 ..., 32 32 32]\n",
        "66\n",
        "(66, 3, 96, 96)\n",
        "Processing clip 7\n",
        "[ 0  0  0 ..., 32 32 32]\n",
        "70\n",
        "(70, 3, 96, 96)\n",
        "Processing clip 8"
       ]
      },
      {
       "output_type": "stream",
       "stream": "stdout",
       "text": [
        "\n",
        "[ 0  0  0 ..., 32 32 32]\n",
        "69\n",
        "(69, 3, 96, 96)\n",
        "Processing clip 9\n",
        "[ 0  0  0 ..., 32 32 32]\n",
        "67\n",
        "(67, 3, 96, 96)\n",
        "Processing clip 10\n",
        "[ 0  0  0 ..., 32 32 32]\n",
        "71\n",
        "(71, 3, 96, 96)\n",
        "Processing clip 11"
       ]
      },
      {
       "output_type": "stream",
       "stream": "stdout",
       "text": [
        "\n",
        "[ 0  0  0 ..., 32 32 32]\n",
        "68\n",
        "(68, 3, 96, 96)\n",
        "Processing clip 12\n",
        "[ 0  0  0 ..., 32 32 32]\n",
        "89\n",
        "(89, 3, 96, 96)\n",
        "Processing clip 13\n",
        "[ 0  0  0 ..., 32 32 32]\n",
        "86\n",
        "(86, 3, 96, 96)\n",
        "Processing clip 14"
       ]
      },
      {
       "output_type": "stream",
       "stream": "stdout",
       "text": [
        "\n",
        "[ 0  0  0 ..., 32 32 32]\n",
        "80\n",
        "(80, 3, 96, 96)\n",
        "Processing clip 15\n",
        "[ 0  0  0 ..., 32 32 32]\n",
        "61\n",
        "(61, 3, 96, 96)\n",
        "Processing clip 16\n",
        "[ 0  0  0 ..., 32 32 32]\n",
        "66\n",
        "(66, 3, 96, 96)\n",
        "Processing clip 17"
       ]
      },
      {
       "output_type": "stream",
       "stream": "stdout",
       "text": [
        "\n",
        "[ 0  0  0 ..., 32 32 32]\n",
        "70\n",
        "(70, 3, 96, 96)\n",
        "Processing clip 18\n",
        "[ 0  0  0 ..., 32 32 32]\n",
        "91\n",
        "(91, 3, 96, 96)\n",
        "Processing clip 19\n",
        "[ 0  0  0 ..., 32 32 32]\n",
        "91\n",
        "(91, 3, 96, 96)\n",
        "Processing clip 20"
       ]
      },
      {
       "output_type": "stream",
       "stream": "stdout",
       "text": [
        "\n",
        "[ 0  0  0 ..., 32 32 32]\n",
        "87\n",
        "(87, 3, 96, 96)\n",
        "Processing clip 21\n",
        "[ 0  0  0 ..., 32 32 32]\n",
        "87\n",
        "(87, 3, 96, 96)\n",
        "Processing clip 22\n",
        "[ 0  0  0 ..., 32 32 32]\n",
        "111\n",
        "(111, 3, 96, 96)\n",
        "Processing clip 23"
       ]
      },
      {
       "output_type": "stream",
       "stream": "stdout",
       "text": [
        "\n",
        "[ 0  0  0 ..., 32 32 32]\n",
        "98\n",
        "(98, 3, 96, 96)\n",
        "Processing clip 24\n",
        "[ 0  0  0 ..., 32 32 32]\n",
        "70\n",
        "(70, 3, 96, 96)\n",
        "Processing clip 25\n",
        "[ 0  0  0 ..., 32 32 32]\n",
        "60\n",
        "(60, 3, 96, 96)\n",
        "Processing clip 26"
       ]
      },
      {
       "output_type": "stream",
       "stream": "stdout",
       "text": [
        "\n",
        "[ 0  0  0 ..., 32 32 32]\n",
        "59\n",
        "(59, 3, 96, 96)\n",
        "Processing clip 27\n",
        "[ 0  0  0 ..., 32 32 32]\n",
        "87\n",
        "(87, 3, 96, 96)\n",
        "Processing clip 28\n",
        "[ 0  0  0 ..., 32 32 32]\n",
        "101\n",
        "(101, 3, 96, 96)\n",
        "Processing clip 29"
       ]
      },
      {
       "output_type": "stream",
       "stream": "stdout",
       "text": [
        "\n",
        "[ 0  0  0 ..., 32 32 32]\n",
        "78\n",
        "(78, 3, 96, 96)\n",
        "Processing clip 30\n",
        "[ 0  0  0 ..., 32 32 32]\n",
        "64\n",
        "(64, 3, 96, 96)\n",
        "Processing clip 31\n",
        "[ 0  0  0 ..., 32 32 32]\n",
        "71\n",
        "(71, 3, 96, 96)\n",
        "Processing clip 32"
       ]
      },
      {
       "output_type": "stream",
       "stream": "stdout",
       "text": [
        "\n",
        "[ 0  0  0 ..., 32 32 32]\n",
        "75\n",
        "(75, 3, 96, 96)\n",
        "(2917, 3, 96, 96) (4, 2917)\n",
        "Processing clip 0\n",
        "[ 0  0  0 ..., 32 32 32]\n",
        "108\n",
        "(108, 3, 96, 96)\n",
        "Processing clip 1"
       ]
      },
      {
       "output_type": "stream",
       "stream": "stdout",
       "text": [
        "\n",
        "[ 0  0  0 ..., 32 32 32]\n",
        "109\n",
        "(109, 3, 96, 96)\n",
        "Processing clip 2\n",
        "[ 0  0  0 ..., 32 32 32]\n",
        "107\n",
        "(107, 3, 96, 96)\n",
        "Processing clip 3"
       ]
      },
      {
       "output_type": "stream",
       "stream": "stdout",
       "text": [
        "\n",
        "[ 0  0  0 ..., 32 32 32]\n",
        "94\n",
        "(94, 3, 96, 96)\n",
        "Processing clip 4\n",
        "[ 0  0  0 ..., 32 32 32]\n",
        "164\n",
        "(164, 3, 96, 96)\n",
        "Processing clip 5"
       ]
      },
      {
       "output_type": "stream",
       "stream": "stdout",
       "text": [
        "\n",
        "[ 0  0  0 ..., 32 32 32]\n",
        "39\n",
        "(39, 3, 96, 96)\n",
        "Processing clip 6\n",
        "[ 0  0  0 ..., 32 32 32]\n",
        "103\n",
        "(103, 3, 96, 96)\n",
        "Processing clip 7\n",
        "[ 0  0  0 ..., 32 32 32]\n",
        "98\n",
        "(98, 3, 96, 96)\n",
        "Processing clip 8"
       ]
      },
      {
       "output_type": "stream",
       "stream": "stdout",
       "text": [
        "\n",
        "[ 0  0  0 ..., 32 32 32]\n",
        "96\n",
        "(96, 3, 96, 96)\n",
        "Processing clip 9\n",
        "[ 0  0  0 ..., 32 32 32]\n",
        "79\n",
        "(79, 3, 96, 96)\n",
        "Processing clip 10\n",
        "[ 0  0  0 ..., 32 32 32]\n",
        "85\n",
        "(85, 3, 96, 96)\n",
        "Processing clip 11"
       ]
      },
      {
       "output_type": "stream",
       "stream": "stdout",
       "text": [
        "\n",
        "[ 0  0  0 ..., 32 32 32]\n",
        "70\n",
        "(70, 3, 96, 96)\n",
        "Processing clip 12\n",
        "[ 0  0  0 ..., 32 32 32]\n",
        "88\n",
        "(88, 3, 96, 96)\n",
        "Processing clip 13\n",
        "[ 0  0  0 ..., 32 32 32]\n",
        "89\n",
        "(89, 3, 96, 96)\n",
        "Processing clip 14"
       ]
      },
      {
       "output_type": "stream",
       "stream": "stdout",
       "text": [
        "\n",
        "[ 0  0  0 ..., 32 32 32]\n",
        "91\n",
        "(91, 3, 96, 96)\n",
        "Processing clip 15\n",
        "[ 0  0  0 ..., 32 32 32]\n",
        "65\n",
        "(65, 3, 96, 96)\n",
        "Processing clip 16\n",
        "[ 0  0  0 ..., 32 32 32]\n",
        "62\n",
        "(62, 3, 96, 96)\n",
        "Processing clip 17"
       ]
      },
      {
       "output_type": "stream",
       "stream": "stdout",
       "text": [
        "\n",
        "[ 0  0  0 ..., 32 32 32]\n",
        "64\n",
        "(64, 3, 96, 96)\n",
        "Processing clip 18\n",
        "[ 0  0  0 ..., 32 32 32]\n",
        "105\n",
        "(105, 3, 96, 96)\n",
        "Processing clip 19\n",
        "[ 0  0  0 ..., 32 32 32]\n",
        "111\n",
        "(111, 3, 96, 96)\n",
        "Processing clip 20"
       ]
      },
      {
       "output_type": "stream",
       "stream": "stdout",
       "text": [
        "\n",
        "[ 0  0  0 ..., 32 32 32]\n",
        "114\n",
        "(114, 3, 96, 96)\n",
        "Processing clip 21\n",
        "[ 0  0  0 ..., 32 32 32]\n",
        "89\n",
        "(89, 3, 96, 96)\n",
        "Processing clip 22"
       ]
      },
      {
       "output_type": "stream",
       "stream": "stdout",
       "text": [
        "\n",
        "[ 0  0  0 ..., 32 32 32]\n",
        "101\n",
        "(101, 3, 96, 96)\n",
        "Processing clip 23\n",
        "[ 0  0  0 ..., 32 32 32]\n",
        "104\n",
        "(104, 3, 96, 96)\n",
        "Processing clip 24"
       ]
      },
      {
       "output_type": "stream",
       "stream": "stdout",
       "text": [
        "\n",
        "[ 0  0  0 ..., 32 32 32]\n",
        "72\n",
        "(72, 3, 96, 96)\n",
        "Processing clip 25\n",
        "[ 0  0  0 ..., 32 32 32]\n",
        "63\n",
        "(63, 3, 96, 96)\n",
        "Processing clip 26\n",
        "[ 0  0  0 ..., 32 32 32]\n",
        "68\n",
        "(68, 3, 96, 96)\n",
        "Processing clip 27"
       ]
      },
      {
       "output_type": "stream",
       "stream": "stdout",
       "text": [
        "\n",
        "[ 0  0  0 ..., 32 32 32]\n",
        "79\n",
        "(79, 3, 96, 96)\n",
        "Processing clip 28\n",
        "[ 0  0  0 ..., 32 32 32]\n",
        "78\n",
        "(78, 3, 96, 96)\n",
        "Processing clip 29\n",
        "[ 0  0  0 ..., 32 32 32]\n",
        "83\n",
        "(83, 3, 96, 96)\n",
        "Processing clip 30"
       ]
      },
      {
       "output_type": "stream",
       "stream": "stdout",
       "text": [
        "\n",
        "[ 0  0  0 ..., 32 32 32]\n",
        "80\n",
        "(80, 3, 96, 96)\n",
        "Processing clip 31\n",
        "[ 0  0  0 ..., 32 32 32]\n",
        "79\n",
        "(79, 3, 96, 96)\n",
        "Processing clip 32\n",
        "[ 0  0  0 ..., 32 32 32]\n",
        "80\n",
        "(80, 3, 96, 96)\n",
        "(3171, 3, 96, 96)"
       ]
      },
      {
       "output_type": "stream",
       "stream": "stdout",
       "text": [
        " (4, 3171)\n",
        "Processing clip 0\n",
        "[ 0  0  0 ..., 32 32 32]\n",
        "105\n",
        "(105, 3, 96, 96)\n",
        "Processing clip 1\n",
        "[ 0  0  0 ..., 32 32 32]\n",
        "102\n",
        "(102, 3, 96, 96)\n",
        "Processing clip 2\n",
        "[ 0  0  0 ..., 32 32 32]"
       ]
      },
      {
       "output_type": "stream",
       "stream": "stdout",
       "text": [
        "\n",
        "98\n",
        "(98, 3, 96, 96)\n",
        "Processing clip 3\n",
        "[ 0  0  0 ..., 32 32 32]\n",
        "100\n",
        "(100, 3, 96, 96)\n",
        "Processing clip 4\n",
        "[ 0  0  0 ..., 32 32 32]\n",
        "93\n",
        "(93, 3, 96, 96)\n",
        "Processing clip 5"
       ]
      },
      {
       "output_type": "stream",
       "stream": "stdout",
       "text": [
        "\n",
        "[ 0  0  0 ..., 32 32 32]\n",
        "94\n",
        "(94, 3, 96, 96)\n",
        "Processing clip 6\n",
        "[ 0  0  0 ..., 32 32 32]\n",
        "100\n",
        "(100, 3, 96, 96)\n",
        "Processing clip 7\n",
        "[ 0  0  0 ..., 32 32 32]\n",
        "117\n",
        "(117, 3, 96, 96)\n",
        "Processing clip 8"
       ]
      },
      {
       "output_type": "stream",
       "stream": "stdout",
       "text": [
        "\n",
        "[ 0  0  0 ..., 32 32 32]\n",
        "106\n",
        "(106, 3, 96, 96)\n",
        "Processing clip 9\n",
        "[ 0  0  0 ..., 32 32 32]\n",
        "89\n",
        "(89, 3, 96, 96)\n",
        "Processing clip 10\n",
        "[ 0  0  0 ..., 32 32 32]\n",
        "83\n",
        "(83, 3, 96, 96)\n",
        "Processing clip 11"
       ]
      },
      {
       "output_type": "stream",
       "stream": "stdout",
       "text": [
        "\n",
        "[ 0  0  0 ..., 32 32 32]\n",
        "78\n",
        "(78, 3, 96, 96)\n",
        "Processing clip 12\n",
        "[ 0  0  0 ..., 32 32 32]\n",
        "92\n",
        "(92, 3, 96, 96)\n",
        "Processing clip 13\n",
        "[ 0  0  0 ..., 32 32 32]\n",
        "92\n",
        "(92, 3, 96, 96)\n",
        "Processing clip 14"
       ]
      },
      {
       "output_type": "stream",
       "stream": "stdout",
       "text": [
        "\n",
        "[ 0  0  0 ..., 32 32 32]\n",
        "90\n",
        "(90, 3, 96, 96)\n",
        "Processing clip 15\n",
        "[ 0  0  0 ..., 32 32 32]\n",
        "73\n",
        "(73, 3, 96, 96)\n",
        "Processing clip 16\n",
        "[ 0  0  0 ..., 32 32 32]\n",
        "78\n",
        "(78, 3, 96, 96)\n",
        "Processing clip 17"
       ]
      },
      {
       "output_type": "stream",
       "stream": "stdout",
       "text": [
        "\n",
        "[ 0  0  0 ..., 32 32 32]\n",
        "78\n",
        "(78, 3, 96, 96)\n",
        "Processing clip 18\n",
        "[ 0  0  0 ..., 32 32 32]\n",
        "167\n",
        "(167, 3, 96, 96)\n",
        "Processing clip 19"
       ]
      },
      {
       "output_type": "stream",
       "stream": "stdout",
       "text": [
        "\n",
        "[ 0  0  0 ..., 32 32 32]\n",
        "131\n",
        "(131, 3, 96, 96)\n",
        "Processing clip 20\n",
        "[ 0  0  0 ..., 32 32 32]\n",
        "132\n",
        "(132, 3, 96, 96)\n",
        "Processing clip 21"
       ]
      },
      {
       "output_type": "stream",
       "stream": "stdout",
       "text": [
        "\n",
        "[ 0  0  0 ..., 32 32 32]\n",
        "97\n",
        "(97, 3, 96, 96)\n",
        "Processing clip 22\n",
        "[ 0  0  0 ..., 32 32 32]\n",
        "101\n",
        "(101, 3, 96, 96)\n",
        "Processing clip 23\n",
        "[ 0  0  0 ..., 32 32 32]\n",
        "110\n",
        "(110, 3, 96, 96)\n",
        "Processing clip 24"
       ]
      },
      {
       "output_type": "stream",
       "stream": "stdout",
       "text": [
        "\n",
        "[ 0  0  0 ..., 32 32 32]\n",
        "84\n",
        "(84, 3, 96, 96)\n",
        "Processing clip 25\n",
        "[ 0  0  0 ..., 32 32 32]\n",
        "83\n",
        "(83, 3, 96, 96)\n",
        "Processing clip 26\n",
        "[ 0  0  0 ..., 32 32 32]\n",
        "82\n",
        "(82, 3, 96, 96)\n",
        "Processing clip 27"
       ]
      },
      {
       "output_type": "stream",
       "stream": "stdout",
       "text": [
        "\n",
        "[ 0  0  0 ..., 32 32 32]\n",
        "80\n",
        "(80, 3, 96, 96)\n",
        "Processing clip 28\n",
        "[ 0  0  0 ..., 32 32 32]\n",
        "80\n",
        "(80, 3, 96, 96)\n",
        "Processing clip 29\n",
        "[ 0  0  0 ..., 32 32 32]\n",
        "80\n",
        "(80, 3, 96, 96)\n",
        "Processing clip 30"
       ]
      },
      {
       "output_type": "stream",
       "stream": "stdout",
       "text": [
        "\n",
        "[ 0  0  0 ..., 32 32 32]\n",
        "98\n",
        "(98, 3, 96, 96)\n",
        "Processing clip 31\n",
        "[ 0  0  0 ..., 32 32 32]\n",
        "91\n",
        "(91, 3, 96, 96)\n",
        "Processing clip 32\n",
        "[ 0  0  0 ..., 32 32 32]\n",
        "87\n",
        "(87, 3, 96, 96)\n",
        "(2672, 3, 96, 96)"
       ]
      },
      {
       "output_type": "stream",
       "stream": "stdout",
       "text": [
        " (4, 2672)\n",
        "Processing clip 0\n",
        "[ 0  0  0 ..., 32 32 32]\n",
        "85\n",
        "(85, 3, 96, 96)\n",
        "Processing clip 1\n",
        "[ 0  0  0 ..., 32 32 32]\n",
        "83\n",
        "(83, 3, 96, 96)\n",
        "Processing clip 2\n",
        "[ 0  0  0 ..., 32 32 32]\n",
        "79\n",
        "(79, 3, 96, 96)\n",
        "Processing clip 3"
       ]
      },
      {
       "output_type": "stream",
       "stream": "stdout",
       "text": [
        "\n",
        "[ 0  0  0 ..., 32 32 32]\n",
        "83\n",
        "(83, 3, 96, 96)\n",
        "Processing clip 4\n",
        "[ 0  0  0 ..., 32 32 32]\n",
        "78\n",
        "(78, 3, 96, 96)\n",
        "Processing clip 5\n",
        "[ 0  0  0 ..., 32 32 32]\n",
        "97\n",
        "(97, 3, 96, 96)\n",
        "Processing clip 6"
       ]
      },
      {
       "output_type": "stream",
       "stream": "stdout",
       "text": [
        "\n",
        "[ 0  0  0 ..., 32 32 32]\n",
        "78\n",
        "(78, 3, 96, 96)\n",
        "Processing clip 7\n",
        "[ 0  0  0 ..., 32 32 32]\n",
        "94\n",
        "(94, 3, 96, 96)\n",
        "Processing clip 8\n",
        "[ 0  0  0 ..., 32 32 32]\n",
        "84\n",
        "(84, 3, 96, 96)\n",
        "Processing clip 9"
       ]
      },
      {
       "output_type": "stream",
       "stream": "stdout",
       "text": [
        "\n",
        "[ 0  0  0 ..., 32 32 32]\n",
        "71\n",
        "(71, 3, 96, 96)\n",
        "Processing clip 10\n",
        "[ 0  0  0 ..., 32 32 32]\n",
        "63\n",
        "(63, 3, 96, 96)\n",
        "Processing clip 11\n",
        "[ 0  0  0 ..., 32 32 32]\n",
        "62\n",
        "(62, 3, 96, 96)\n",
        "Processing clip 12"
       ]
      },
      {
       "output_type": "stream",
       "stream": "stdout",
       "text": [
        "\n",
        "[ 0  0  0 ..., 32 32 32]\n",
        "81\n",
        "(81, 3, 96, 96)\n",
        "Processing clip 13\n",
        "[ 0  0  0 ..., 32 32 32]\n",
        "80\n",
        "(80, 3, 96, 96)\n",
        "Processing clip 14\n",
        "[ 0  0  0 ..., 32 32 32]\n",
        "81\n",
        "(81, 3, 96, 96)\n",
        "Processing clip 15"
       ]
      },
      {
       "output_type": "stream",
       "stream": "stdout",
       "text": [
        "\n",
        "[ 0  0  0 ..., 32 32 32]\n",
        "69\n",
        "(69, 3, 96, 96)\n",
        "Processing clip 16\n",
        "[ 0  0  0 ..., 32 32 32]\n",
        "74\n",
        "(74, 3, 96, 96)\n",
        "Processing clip 17\n",
        "[ 0  0  0 ..., 32 32 32]\n",
        "65\n",
        "(65, 3, 96, 96)\n",
        "Processing clip 18"
       ]
      },
      {
       "output_type": "stream",
       "stream": "stdout",
       "text": [
        "\n",
        "[ 0  0  0 ..., 32 32 32]\n",
        "102\n",
        "(102, 3, 96, 96)\n",
        "Processing clip 19\n",
        "[ 0  0  0 ..., 32 32 32]\n",
        "103\n",
        "(103, 3, 96, 96)\n",
        "Processing clip 20\n",
        "[ 0  0  0 ..., 32 32 32]"
       ]
      },
      {
       "output_type": "stream",
       "stream": "stdout",
       "text": [
        "\n",
        "100\n",
        "(100, 3, 96, 96)\n",
        "Processing clip 21\n",
        "[ 0  0  0 ..., 32 32 32]\n",
        "96\n",
        "(96, 3, 96, 96)\n",
        "Processing clip 22\n",
        "[ 0  0  0 ..., 32 32 32]\n",
        "109\n",
        "(109, 3, 96, 96)\n",
        "Processing clip 23"
       ]
      },
      {
       "output_type": "stream",
       "stream": "stdout",
       "text": [
        "\n",
        "[ 0  0  0 ..., 32 32 32]\n",
        "97\n",
        "(97, 3, 96, 96)\n",
        "Processing clip 24\n",
        "[ 0  0  0 ..., 32 32 32]\n",
        "80\n",
        "(80, 3, 96, 96)\n",
        "Processing clip 25\n",
        "[ 0  0  0 ..., 32 32 32]\n",
        "82\n",
        "(82, 3, 96, 96)\n",
        "Processing clip 26"
       ]
      },
      {
       "output_type": "stream",
       "stream": "stdout",
       "text": [
        "\n",
        "[ 0  0  0 ..., 32 32 32]\n",
        "83\n",
        "(83, 3, 96, 96)\n",
        "Processing clip 27\n",
        "[ 0  0  0 ..., 32 32 32]\n",
        "71\n",
        "(71, 3, 96, 96)\n",
        "Processing clip 28\n",
        "[ 0  0  0 ..., 32 32 32]\n",
        "69\n",
        "(69, 3, 96, 96)\n",
        "Processing clip 29"
       ]
      },
      {
       "output_type": "stream",
       "stream": "stdout",
       "text": [
        "\n",
        "[ 0  0  0 ..., 32 32 32]\n",
        "68\n",
        "(68, 3, 96, 96)\n",
        "Processing clip 30\n",
        "[ 0  0  0 ..., 32 32 32]\n",
        "67\n",
        "(67, 3, 96, 96)\n",
        "Processing clip 31\n",
        "[ 0  0  0 ..., 32 32 32]\n",
        "72\n",
        "(72, 3, 96, 96)\n",
        "Processing clip 32"
       ]
      },
      {
       "output_type": "stream",
       "stream": "stdout",
       "text": [
        "\n",
        "[ 0  0  0 ..., 32 32 32]\n",
        "66\n",
        "(66, 3, 96, 96)\n",
        "(2623, 3, 96, 96) (4, 2623)\n",
        "Processing clip 0\n",
        "[ 0  0  0 ..., 32 32 32]\n",
        "95\n",
        "(95, 3, 96, 96)\n",
        "Processing clip 1"
       ]
      },
      {
       "output_type": "stream",
       "stream": "stdout",
       "text": [
        "\n",
        "[ 0  0  0 ..., 32 32 32]\n",
        "94\n",
        "(94, 3, 96, 96)\n",
        "Processing clip 2\n",
        "[ 0  0  0 ..., 32 32 32]\n",
        "91\n",
        "(91, 3, 96, 96)\n",
        "Processing clip 3\n",
        "[ 0  0  0 ..., 32 32 32]\n",
        "80\n",
        "(80, 3, 96, 96)\n",
        "Processing clip 4"
       ]
      },
      {
       "output_type": "stream",
       "stream": "stdout",
       "text": [
        "\n",
        "[ 0  0  0 ..., 32 32 32]\n",
        "84\n",
        "(84, 3, 96, 96)\n",
        "Processing clip 5\n",
        "[ 0  0  0 ..., 32 32 32]\n",
        "81\n",
        "(81, 3, 96, 96)\n",
        "Processing clip 6\n",
        "[ 0  0  0 ..., 32 32 32]\n",
        "91\n",
        "(91, 3, 96, 96)\n",
        "Processing clip 7"
       ]
      },
      {
       "output_type": "stream",
       "stream": "stdout",
       "text": [
        "\n",
        "[ 0  0  0 ..., 32 32 32]\n",
        "77\n",
        "(77, 3, 96, 96)\n",
        "Processing clip 8\n",
        "[ 0  0  0 ..., 32 32 32]\n",
        "71\n",
        "(71, 3, 96, 96)\n",
        "Processing clip 9\n",
        "[ 0  0  0 ..., 32 32 32]\n",
        "69\n",
        "(69, 3, 96, 96)\n",
        "Processing clip 10"
       ]
      },
      {
       "output_type": "stream",
       "stream": "stdout",
       "text": [
        "\n",
        "[ 0  0  0 ..., 32 32 32]\n",
        "69\n",
        "(69, 3, 96, 96)\n",
        "Processing clip 11\n",
        "[ 0  0  0 ..., 32 32 32]\n",
        "67\n",
        "(67, 3, 96, 96)\n",
        "Processing clip 12\n",
        "[ 0  0  0 ..., 32 32 32]\n",
        "64\n",
        "(64, 3, 96, 96)\n",
        "Processing clip 13"
       ]
      },
      {
       "output_type": "stream",
       "stream": "stdout",
       "text": [
        "\n",
        "[ 0  0  0 ..., 32 32 32]\n",
        "75\n",
        "(75, 3, 96, 96)\n",
        "Processing clip 14\n",
        "[ 0  0  0 ..., 32 32 32]\n",
        "72\n",
        "(72, 3, 96, 96)\n",
        "Processing clip 15\n",
        "[ 0  0  0 ..., 32 32 32]\n",
        "66\n",
        "(66, 3, 96, 96)\n",
        "Processing clip 16"
       ]
      },
      {
       "output_type": "stream",
       "stream": "stdout",
       "text": [
        "\n",
        "[ 0  0  0 ..., 32 32 32]\n",
        "65\n",
        "(65, 3, 96, 96)\n",
        "Processing clip 17\n",
        "[ 0  0  0 ..., 32 32 32]\n",
        "66\n",
        "(66, 3, 96, 96)\n",
        "Processing clip 18\n",
        "[ 0  0  0 ..., 32 32 32]\n",
        "104\n",
        "(104, 3, 96, 96)\n",
        "Processing clip 19"
       ]
      },
      {
       "output_type": "stream",
       "stream": "stdout",
       "text": [
        "\n",
        "[ 0  0  0 ..., 32 32 32]\n",
        "103\n",
        "(103, 3, 96, 96)\n",
        "Processing clip 20\n",
        "[ 0  0  0 ..., 32 32 32]\n",
        "103\n",
        "(103, 3, 96, 96)\n",
        "Processing clip 21\n",
        "[ 0  0  0 ..., 32 32 32]"
       ]
      },
      {
       "output_type": "stream",
       "stream": "stdout",
       "text": [
        "\n",
        "98\n",
        "(98, 3, 96, 96)\n",
        "Processing clip 22\n",
        "[ 0  0  0 ..., 32 32 32]\n",
        "94\n",
        "(94, 3, 96, 96)\n",
        "Processing clip 23\n",
        "[ 0  0  0 ..., 32 32 32]\n",
        "97\n",
        "(97, 3, 96, 96)\n",
        "Processing clip 24"
       ]
      },
      {
       "output_type": "stream",
       "stream": "stdout",
       "text": [
        "\n",
        "[ 0  0  0 ..., 32 32 32]\n",
        "71\n",
        "(71, 3, 96, 96)\n",
        "Processing clip 25\n",
        "[ 0  0  0 ..., 32 32 32]\n",
        "70\n",
        "(70, 3, 96, 96)\n",
        "Processing clip 26\n",
        "[ 0  0  0 ..., 32 32 32]\n",
        "75\n",
        "(75, 3, 96, 96)\n",
        "Processing clip 27"
       ]
      },
      {
       "output_type": "stream",
       "stream": "stdout",
       "text": [
        "\n",
        "[ 0  0  0 ..., 32 32 32]\n",
        "65\n",
        "(65, 3, 96, 96)\n",
        "Processing clip 28\n",
        "[ 0  0  0 ..., 32 32 32]\n",
        "63\n",
        "(63, 3, 96, 96)\n",
        "Processing clip 29\n",
        "[ 0  0  0 ..., 32 32 32]\n",
        "63\n",
        "(63, 3, 96, 96)\n",
        "Processing clip 30\n",
        "[ 0  0  0 ..., 32 32 32]"
       ]
      },
      {
       "output_type": "stream",
       "stream": "stdout",
       "text": [
        "\n",
        "76\n",
        "(76, 3, 96, 96)\n",
        "Processing clip 31\n",
        "[ 0  0  0 ..., 32 32 32]\n",
        "78\n",
        "(78, 3, 96, 96)\n",
        "Processing clip 32\n",
        "[ 0  0  0 ..., 32 32 32]\n",
        "86\n",
        "(86, 3, 96, 96)\n",
        "(2697, 3, 96, 96)"
       ]
      },
      {
       "output_type": "stream",
       "stream": "stdout",
       "text": [
        " (4, 2697)\n",
        "Processing clip 0\n",
        "[ 0  0  0 ..., 32 32 32]\n",
        "121\n",
        "(121, 3, 96, 96)\n",
        "Processing clip 1\n",
        "[ 0  0  0 ..., 32 32 32]\n",
        "95\n",
        "(95, 3, 96, 96)\n",
        "Processing clip 2"
       ]
      },
      {
       "output_type": "stream",
       "stream": "stdout",
       "text": [
        "\n",
        "[ 0  0  0 ..., 32 32 32]\n",
        "92\n",
        "(92, 3, 96, 96)\n",
        "Processing clip 3\n",
        "[ 0  0  0 ..., 32 32 32]\n",
        "85\n",
        "(85, 3, 96, 96)\n",
        "Processing clip 4\n",
        "[ 0  0  0 ..., 32 32 32]\n",
        "82\n",
        "(82, 3, 96, 96)\n",
        "Processing clip 5"
       ]
      },
      {
       "output_type": "stream",
       "stream": "stdout",
       "text": [
        "\n",
        "[ 0  0  0 ..., 32 32 32]\n",
        "82\n",
        "(82, 3, 96, 96)\n",
        "Processing clip 6\n",
        "[ 0  0  0 ..., 32 32 32]\n",
        "83\n",
        "(83, 3, 96, 96)\n",
        "Processing clip 7\n",
        "[ 0  0  0 ..., 32 32 32]\n",
        "72\n",
        "(72, 3, 96, 96)\n",
        "Processing clip 8"
       ]
      },
      {
       "output_type": "stream",
       "stream": "stdout",
       "text": [
        "\n",
        "[ 0  0  0 ..., 32 32 32]\n",
        "69\n",
        "(69, 3, 96, 96)\n",
        "Processing clip 9\n",
        "[ 0  0  0 ..., 32 32 32]\n",
        "71\n",
        "(71, 3, 96, 96)\n",
        "Processing clip 10\n",
        "[ 0  0  0 ..., 32 32 32]\n",
        "72\n",
        "(72, 3, 96, 96)\n",
        "Processing clip 11"
       ]
      },
      {
       "output_type": "stream",
       "stream": "stdout",
       "text": [
        "\n",
        "[ 0  0  0 ..., 32 32 32]\n",
        "69\n",
        "(69, 3, 96, 96)\n",
        "Processing clip 12\n",
        "[ 0  0  0 ..., 32 32 32]\n",
        "91\n",
        "(91, 3, 96, 96)\n",
        "Processing clip 13\n",
        "[ 0  0  0 ..., 32 32 32]\n",
        "89\n",
        "(89, 3, 96, 96)\n",
        "Processing clip 14"
       ]
      },
      {
       "output_type": "stream",
       "stream": "stdout",
       "text": [
        "\n",
        "[ 0  0  0 ..., 32 32 32]\n",
        "78\n",
        "(78, 3, 96, 96)\n",
        "Processing clip 15\n",
        "[ 0  0  0 ..., 32 32 32]\n",
        "66\n",
        "(66, 3, 96, 96)\n",
        "Processing clip 16\n",
        "[ 0  0  0 ..., 32 32 32]\n",
        "70\n",
        "(70, 3, 96, 96)\n",
        "Processing clip 17"
       ]
      },
      {
       "output_type": "stream",
       "stream": "stdout",
       "text": [
        "\n",
        "[ 0  0  0 ..., 32 32 32]\n",
        "66\n",
        "(66, 3, 96, 96)\n",
        "Processing clip 18\n",
        "[ 0  0  0 ..., 32 32 32]\n",
        "103\n",
        "(103, 3, 96, 96)\n",
        "Processing clip 19\n",
        "[ 0  0  0 ..., 32 32 32]\n",
        "104\n",
        "(104, 3, 96, 96)\n",
        "Processing clip 20"
       ]
      },
      {
       "output_type": "stream",
       "stream": "stdout",
       "text": [
        "\n",
        "[ 0  0  0 ..., 32 32 32]\n",
        "106\n",
        "(106, 3, 96, 96)\n",
        "Processing clip 21\n",
        "[ 0  0  0 ..., 32 32 32]\n",
        "100\n",
        "(100, 3, 96, 96)\n",
        "Processing clip 22\n",
        "[ 0  0  0 ..., 32 32 32]"
       ]
      },
      {
       "output_type": "stream",
       "stream": "stdout",
       "text": [
        "\n",
        "92\n",
        "(92, 3, 96, 96)\n",
        "Processing clip 23\n",
        "[ 0  0  0 ..., 32 32 32]\n",
        "90\n",
        "(90, 3, 96, 96)\n",
        "Processing clip 24\n",
        "[ 0  0  0 ..., 32 32 32]\n",
        "72\n",
        "(72, 3, 96, 96)\n",
        "Processing clip 25"
       ]
      },
      {
       "output_type": "stream",
       "stream": "stdout",
       "text": [
        "\n",
        "[ 0  0  0 ..., 32 32 32]\n",
        "81\n",
        "(81, 3, 96, 96)\n",
        "Processing clip 26\n",
        "[ 0  0  0 ..., 32 32 32]\n",
        "73\n",
        "(73, 3, 96, 96)\n",
        "Processing clip 27\n",
        "[ 0  0  0 ..., 32 32 32]\n",
        "67\n",
        "(67, 3, 96, 96)\n",
        "Processing clip 28"
       ]
      },
      {
       "output_type": "stream",
       "stream": "stdout",
       "text": [
        "\n",
        "[ 0  0  0 ..., 32 32 32]\n",
        "68\n",
        "(68, 3, 96, 96)\n",
        "Processing clip 29\n",
        "[ 0  0  0 ..., 32 32 32]\n",
        "65\n",
        "(65, 3, 96, 96)\n",
        "Processing clip 30\n",
        "[ 0  0  0 ..., 32 32 32]\n",
        "74\n",
        "(74, 3, 96, 96)\n",
        "Processing clip 31"
       ]
      },
      {
       "output_type": "stream",
       "stream": "stdout",
       "text": [
        "\n",
        "[ 0  0  0 ..., 32 32 32]\n",
        "76\n",
        "(76, 3, 96, 96)\n",
        "Processing clip 32\n",
        "[ 0  0  0 ..., 32 32 32]\n",
        "73\n",
        "(73, 3, 96, 96)\n",
        "(2701, 3, 96, 96)"
       ]
      },
      {
       "output_type": "stream",
       "stream": "stdout",
       "text": [
        " (4, 2701)\n",
        "Processing clip 0\n",
        "[ 0  0  0 ..., 32 32 32]\n",
        "91\n",
        "(91, 3, 96, 96)\n",
        "Processing clip 1\n",
        "[ 0  0  0 ..., 32 32 32]\n",
        "88\n",
        "(88, 3, 96, 96)\n",
        "Processing clip 2\n",
        "[ 0  0  0 ..., 32 32 32]\n",
        "88\n",
        "(88, 3, 96, 96)\n",
        "Processing clip 3"
       ]
      },
      {
       "output_type": "stream",
       "stream": "stdout",
       "text": [
        "\n",
        "[ 0  0  0 ..., 32 32 32]\n",
        "87\n",
        "(87, 3, 96, 96)\n",
        "Processing clip 4\n",
        "[ 0  0  0 ..., 32 32 32]\n",
        "67\n",
        "(67, 3, 96, 96)\n",
        "Processing clip 5\n",
        "[ 0  0  0 ..., 32 32 32]\n",
        "82\n",
        "(82, 3, 96, 96)\n",
        "Processing clip 6"
       ]
      },
      {
       "output_type": "stream",
       "stream": "stdout",
       "text": [
        "\n",
        "[ 0  0  0 ..., 32 32 32]\n",
        "95\n",
        "(95, 3, 96, 96)\n",
        "Processing clip 7\n",
        "[ 0  0  0 ..., 32 32 32]\n",
        "87\n",
        "(87, 3, 96, 96)\n",
        "Processing clip 8\n",
        "[ 0  0  0 ..., 32 32 32]\n",
        "87\n",
        "(87, 3, 96, 96)\n",
        "Processing clip 9"
       ]
      },
      {
       "output_type": "stream",
       "stream": "stdout",
       "text": [
        "\n",
        "[ 0  0  0 ..., 32 32 32]\n",
        "71\n",
        "(71, 3, 96, 96)\n",
        "Processing clip 10\n",
        "[ 0  0  0 ..., 32 32 32]\n",
        "73\n",
        "(73, 3, 96, 96)\n",
        "Processing clip 11\n",
        "[ 0  0  0 ..., 32 32 32]\n",
        "72\n",
        "(72, 3, 96, 96)\n",
        "Processing clip 12"
       ]
      },
      {
       "output_type": "stream",
       "stream": "stdout",
       "text": [
        "\n",
        "[ 0  0  0 ..., 32 32 32]\n",
        "91\n",
        "(91, 3, 96, 96)\n",
        "Processing clip 13\n",
        "[ 0  0  0 ..., 32 32 32]\n",
        "83\n",
        "(83, 3, 96, 96)\n",
        "Processing clip 14\n",
        "[ 0  0  0 ..., 32 32 32]\n",
        "64\n",
        "(64, 3, 96, 96)\n",
        "Processing clip 15"
       ]
      },
      {
       "output_type": "stream",
       "stream": "stdout",
       "text": [
        "\n",
        "[ 0  0  0 ..., 32 32 32]\n",
        "68\n",
        "(68, 3, 96, 96)\n",
        "Processing clip 16\n",
        "[ 0  0  0 ..., 32 32 32]\n",
        "63\n",
        "(63, 3, 96, 96)\n",
        "Processing clip 17\n",
        "[ 0  0  0 ..., 32 32 32]\n",
        "62\n",
        "(62, 3, 96, 96)\n",
        "Processing clip 18\n",
        "[ 0  0  0 ..., 32 32 32]"
       ]
      },
      {
       "output_type": "stream",
       "stream": "stdout",
       "text": [
        "\n",
        "119\n",
        "(119, 3, 96, 96)\n",
        "Processing clip 19\n",
        "[ 0  0  0 ..., 32 32 32]\n",
        "120\n",
        "(120, 3, 96, 96)\n",
        "Processing clip 20"
       ]
      },
      {
       "output_type": "stream",
       "stream": "stdout",
       "text": [
        "\n",
        "[ 0  0  0 ..., 32 32 32]\n",
        "112\n",
        "(112, 3, 96, 96)\n",
        "Processing clip 21\n",
        "[ 0  0  0 ..., 32 32 32]\n",
        "98\n",
        "(98, 3, 96, 96)\n",
        "Processing clip 22\n",
        "[ 0  0  0 ..., 32 32 32]"
       ]
      },
      {
       "output_type": "stream",
       "stream": "stdout",
       "text": [
        "\n",
        "93\n",
        "(93, 3, 96, 96)\n",
        "Processing clip 23\n",
        "[ 0  0  0 ..., 32 32 32]\n",
        "107\n",
        "(107, 3, 96, 96)\n",
        "Processing clip 24\n",
        "[ 0  0  0 ..., 32 32 32]\n",
        "77\n",
        "(77, 3, 96, 96)\n",
        "Processing clip 25"
       ]
      },
      {
       "output_type": "stream",
       "stream": "stdout",
       "text": [
        "\n",
        "[ 0  0  0 ..., 32 32 32]\n",
        "71\n",
        "(71, 3, 96, 96)\n",
        "Processing clip 26\n",
        "[ 0  0  0 ..., 32 32 32]\n",
        "69\n",
        "(69, 3, 96, 96)\n",
        "Processing clip 27\n",
        "[ 0  0  0 ..., 32 32 32]\n",
        "67\n",
        "(67, 3, 96, 96)\n",
        "Processing clip 28"
       ]
      },
      {
       "output_type": "stream",
       "stream": "stdout",
       "text": [
        "\n",
        "[ 0  0  0 ..., 32 32 32]\n",
        "68\n",
        "(68, 3, 96, 96)\n",
        "Processing clip 29\n",
        "[ 0  0  0 ..., 32 32 32]\n",
        "62\n",
        "(62, 3, 96, 96)\n",
        "Processing clip 30\n",
        "[ 0  0  0 ..., 32 32 32]\n",
        "72\n",
        "(72, 3, 96, 96)\n",
        "Processing clip 31"
       ]
      },
      {
       "output_type": "stream",
       "stream": "stdout",
       "text": [
        "\n",
        "[ 0  0  0 ..., 32 32 32]\n",
        "72\n",
        "(72, 3, 96, 96)\n",
        "Processing clip 32\n",
        "[ 0  0  0 ..., 32 32 32]\n",
        "75\n",
        "(75, 3, 96, 96)\n",
        "(3022, 3, 96, 96)"
       ]
      },
      {
       "output_type": "stream",
       "stream": "stdout",
       "text": [
        " (4, 3022)\n",
        "Processing clip 0\n",
        "[ 0  0  0 ..., 32 32 32]\n",
        "112\n",
        "(112, 3, 96, 96)\n",
        "Processing clip 1\n",
        "[ 0  0  0 ..., 32 32 32]\n",
        "118\n",
        "(118, 3, 96, 96)\n",
        "Processing clip 2"
       ]
      },
      {
       "output_type": "stream",
       "stream": "stdout",
       "text": [
        "\n",
        "[ 0  0  0 ..., 32 32 32]\n",
        "124\n",
        "(124, 3, 96, 96)\n",
        "Processing clip 3\n",
        "[ 0  0  0 ..., 32 32 32]\n",
        "84\n",
        "(84, 3, 96, 96)\n",
        "Processing clip 4"
       ]
      },
      {
       "output_type": "stream",
       "stream": "stdout",
       "text": [
        "\n",
        "[ 0  0  0 ..., 32 32 32]\n",
        "83\n",
        "(83, 3, 96, 96)\n",
        "Processing clip 5\n",
        "[ 0  0  0 ..., 32 32 32]\n",
        "80\n",
        "(80, 3, 96, 96)\n",
        "Processing clip 6\n",
        "[ 0  0  0 ..., 32 32 32]\n",
        "86\n",
        "(86, 3, 96, 96)\n",
        "Processing clip 7"
       ]
      },
      {
       "output_type": "stream",
       "stream": "stdout",
       "text": [
        "\n",
        "[ 0  0  0 ..., 32 32 32]\n",
        "88\n",
        "(88, 3, 96, 96)\n",
        "Processing clip 8\n",
        "[ 0  0  0 ..., 32 32 32]\n",
        "87\n",
        "(87, 3, 96, 96)\n",
        "Processing clip 9\n",
        "[ 0  0  0 ..., 32 32 32]\n",
        "111\n",
        "(111, 3, 96, 96)\n",
        "Processing clip 10"
       ]
      },
      {
       "output_type": "stream",
       "stream": "stdout",
       "text": [
        "\n",
        "[ 0  0  0 ..., 32 32 32]\n",
        "121\n",
        "(121, 3, 96, 96)\n",
        "Processing clip 11\n",
        "[ 0  0  0 ..., 32 32 32]\n",
        "119\n",
        "(119, 3, 96, 96)\n",
        "Processing clip 12"
       ]
      },
      {
       "output_type": "stream",
       "stream": "stdout",
       "text": [
        "\n",
        "[ 0  0  0 ..., 32 32 32]\n",
        "102\n",
        "(102, 3, 96, 96)\n",
        "Processing clip 13\n",
        "[ 0  0  0 ..., 32 32 32]\n",
        "109\n",
        "(109, 3, 96, 96)\n",
        "Processing clip 14"
       ]
      },
      {
       "output_type": "stream",
       "stream": "stdout",
       "text": [
        "\n",
        "[ 0  0  0 ..., 32 32 32]\n",
        "107\n",
        "(107, 3, 96, 96)\n",
        "Processing clip 15\n",
        "[ 0  0  0 ..., 32 32 32]\n",
        "88\n",
        "(88, 3, 96, 96)\n",
        "Processing clip 16\n",
        "[ 0  0  0 ..., 32 32 32]"
       ]
      },
      {
       "output_type": "stream",
       "stream": "stdout",
       "text": [
        "\n",
        "88\n",
        "(88, 3, 96, 96)\n",
        "Processing clip 17\n",
        "[ 0  0  0 ..., 32 32 32]\n",
        "90\n",
        "(90, 3, 96, 96)\n",
        "Processing clip 18\n",
        "[ 0  0  0 ..., 32 32 32]\n",
        "84\n",
        "(84, 3, 96, 96)\n",
        "Processing clip 19"
       ]
      },
      {
       "output_type": "stream",
       "stream": "stdout",
       "text": [
        "\n",
        "[ 0  0  0 ..., 32 32 32]\n",
        "89\n",
        "(89, 3, 96, 96)\n",
        "Processing clip 20\n",
        "[ 0  0  0 ..., 32 32 32]\n",
        "93\n",
        "(93, 3, 96, 96)\n",
        "Processing clip 21\n",
        "[ 0  0  0 ..., 32 32 32]\n",
        "60\n",
        "(60, 3, 96, 96)\n",
        "Processing clip 22"
       ]
      },
      {
       "output_type": "stream",
       "stream": "stdout",
       "text": [
        "\n",
        "[ 0  0  0 ..., 32 32 32]\n",
        "65\n",
        "(65, 3, 96, 96)\n",
        "Processing clip 23\n",
        "[ 0  0  0 ..., 32 32 32]\n",
        "69\n",
        "(69, 3, 96, 96)\n",
        "Processing clip 24\n",
        "[ 0  0  0 ..., 32 32 32]\n",
        "96\n",
        "(96, 3, 96, 96)\n",
        "Processing clip 25"
       ]
      },
      {
       "output_type": "stream",
       "stream": "stdout",
       "text": [
        "\n",
        "[ 0  0  0 ..., 32 32 32]\n",
        "108\n",
        "(108, 3, 96, 96)\n",
        "Processing clip 26\n",
        "[ 0  0  0 ..., 32 32 32]\n",
        "105\n",
        "(105, 3, 96, 96)\n",
        "Processing clip 27"
       ]
      },
      {
       "output_type": "stream",
       "stream": "stdout",
       "text": [
        "\n",
        "[ 0  0  0 ..., 32 32 32]\n",
        "70\n",
        "(70, 3, 96, 96)\n",
        "Processing clip 28\n",
        "[ 0  0  0 ..., 32 32 32]\n",
        "69\n",
        "(69, 3, 96, 96)\n",
        "Processing clip 29\n",
        "[ 0  0  0 ..., 32 32 32]\n",
        "71\n",
        "(71, 3, 96, 96)\n",
        "Processing clip 30"
       ]
      },
      {
       "output_type": "stream",
       "stream": "stdout",
       "text": [
        "\n",
        "[ 0  0  0 ..., 32 32 32]\n",
        "75\n",
        "(75, 3, 96, 96)\n",
        "Processing clip 31\n",
        "[ 0  0  0 ..., 32 32 32]\n",
        "87\n",
        "(87, 3, 96, 96)\n",
        "Processing clip 32\n",
        "[ 0  0  0 ..., 32 32 32]\n",
        "84\n",
        "(84, 3, 96, 96)\n",
        "(3179, 3, 96, 96)"
       ]
      },
      {
       "output_type": "stream",
       "stream": "stdout",
       "text": [
        " (4, 3179)\n",
        "Processing clip 0\n",
        "[ 0  0  0 ..., 32 32 32]\n",
        "123\n",
        "(123, 3, 96, 96)\n",
        "Processing clip 1\n",
        "[ 0  0  0 ..., 32 32 32]\n",
        "134\n",
        "(134, 3, 96, 96)\n",
        "Processing clip 2"
       ]
      },
      {
       "output_type": "stream",
       "stream": "stdout",
       "text": [
        "\n",
        "[ 0  0  0 ..., 32 32 32]\n",
        "129\n",
        "(129, 3, 96, 96)\n",
        "Processing clip 3\n",
        "[ 0  0  0 ..., 32 32 32]\n",
        "98\n",
        "(98, 3, 96, 96)\n",
        "Processing clip 4"
       ]
      },
      {
       "output_type": "stream",
       "stream": "stdout",
       "text": [
        "\n",
        "[ 0  0  0 ..., 32 32 32]\n",
        "97\n",
        "(97, 3, 96, 96)\n",
        "Processing clip 5\n",
        "[ 0  0  0 ..., 32 32 32]\n",
        "97\n",
        "(97, 3, 96, 96)\n",
        "Processing clip 6"
       ]
      },
      {
       "output_type": "stream",
       "stream": "stdout",
       "text": [
        "\n",
        "[ 0  0  0 ..., 32 32 32]\n",
        "89\n",
        "(89, 3, 96, 96)\n",
        "Processing clip 7\n",
        "[ 0  0  0 ..., 32 32 32]\n",
        "92\n",
        "(92, 3, 96, 96)\n",
        "Processing clip 8\n",
        "[ 0  0  0 ..., 32 32 32]\n",
        "88\n",
        "(88, 3, 96, 96)\n",
        "Processing clip 9"
       ]
      },
      {
       "output_type": "stream",
       "stream": "stdout",
       "text": [
        "\n",
        "[ 0  0  0 ..., 32 32 32]\n",
        "116\n",
        "(116, 3, 96, 96)\n",
        "Processing clip 10\n",
        "[ 0  0  0 ..., 32 32 32]\n",
        "122\n",
        "(122, 3, 96, 96)\n",
        "Processing clip 11"
       ]
      },
      {
       "output_type": "stream",
       "stream": "stdout",
       "text": [
        "\n",
        "[ 0  0  0 ..., 32 32 32]\n",
        "118\n",
        "(118, 3, 96, 96)\n",
        "Processing clip 12\n",
        "[ 0  0  0 ..., 32 32 32]\n",
        "117\n",
        "(117, 3, 96, 96)\n",
        "Processing clip 13"
       ]
      },
      {
       "output_type": "stream",
       "stream": "stdout",
       "text": [
        "\n",
        "[ 0  0  0 ..., 32 32 32]\n",
        "122\n",
        "(122, 3, 96, 96)\n",
        "Processing clip 14\n",
        "[ 0  0  0 ..., 32 32 32]\n",
        "120\n",
        "(120, 3, 96, 96)\n",
        "Processing clip 15"
       ]
      },
      {
       "output_type": "stream",
       "stream": "stdout",
       "text": [
        "\n",
        "[ 0  0  0 ..., 32 32 32]\n",
        "87\n",
        "(87, 3, 96, 96)\n",
        "Processing clip 16\n",
        "[ 0  0  0 ..., 32 32 32]\n",
        "88\n",
        "(88, 3, 96, 96)\n",
        "Processing clip 17\n",
        "[ 0  0  0 ..., 32 32 32]\n",
        "80\n",
        "(80, 3, 96, 96)\n",
        "Processing clip 18"
       ]
      },
      {
       "output_type": "stream",
       "stream": "stdout",
       "text": [
        "\n",
        "[ 0  0  0 ..., 32 32 32]\n",
        "95\n",
        "(95, 3, 96, 96)\n",
        "Processing clip 19\n",
        "[ 0  0  0 ..., 32 32 32]\n",
        "101\n",
        "(101, 3, 96, 96)\n",
        "Processing clip 20"
       ]
      },
      {
       "output_type": "stream",
       "stream": "stdout",
       "text": [
        "\n",
        "[ 0  0  0 ..., 32 32 32]\n",
        "94\n",
        "(94, 3, 96, 96)\n",
        "Processing clip 21\n",
        "[ 0  0  0 ..., 32 32 32]\n",
        "70\n",
        "(70, 3, 96, 96)\n",
        "Processing clip 22\n",
        "[ 0  0  0 ..., 32 32 32]\n",
        "71\n",
        "(71, 3, 96, 96)\n",
        "Processing clip 23"
       ]
      },
      {
       "output_type": "stream",
       "stream": "stdout",
       "text": [
        "\n",
        "[ 0  0  0 ..., 32 32 32]\n",
        "69\n",
        "(69, 3, 96, 96)\n",
        "Processing clip 24\n",
        "[ 0  0  0 ..., 32 32 32]\n",
        "68\n",
        "(68, 3, 96, 96)\n",
        "Processing clip 25\n",
        "[ 0  0  0 ..., 32 32 32]\n",
        "99\n",
        "(99, 3, 96, 96)\n",
        "Processing clip 26"
       ]
      },
      {
       "output_type": "stream",
       "stream": "stdout",
       "text": [
        "\n",
        "[ 0  0  0 ..., 32 32 32]\n",
        "83\n",
        "(83, 3, 96, 96)\n",
        "Processing clip 27\n",
        "[ 0  0  0 ..., 32 32 32]\n",
        "86\n",
        "(86, 3, 96, 96)\n",
        "Processing clip 28\n",
        "[ 0  0  0 ..., 32 32 32]\n",
        "86\n",
        "(86, 3, 96, 96)\n",
        "Processing clip 29"
       ]
      },
      {
       "output_type": "stream",
       "stream": "stdout",
       "text": [
        "\n",
        "[ 0  0  0 ..., 32 32 32]\n",
        "79\n",
        "(79, 3, 96, 96)\n",
        "Processing clip 30\n",
        "[ 0  0  0 ..., 32 32 32]\n",
        "84\n",
        "(84, 3, 96, 96)\n",
        "Processing clip 31\n",
        "[ 0  0  0 ..., 32 32 32]\n",
        "86\n",
        "(86, 3, 96, 96)\n",
        "Processing clip 32"
       ]
      },
      {
       "output_type": "stream",
       "stream": "stdout",
       "text": [
        "\n",
        "[ 0  0  0 ..., 32 32 32]\n",
        "91\n",
        "(91, 3, 96, 96)\n",
        "(3072, 3, 96, 96) (4, 3072)\n",
        "Processing clip 0\n",
        "[ 0  0  0 ..., 32 32 32]\n",
        "108\n",
        "(108, 3, 96, 96)\n",
        "Processing clip 1"
       ]
      },
      {
       "output_type": "stream",
       "stream": "stdout",
       "text": [
        "\n",
        "[ 0  0  0 ..., 32 32 32]\n",
        "106\n",
        "(106, 3, 96, 96)\n",
        "Processing clip 2\n",
        "[ 0  0  0 ..., 32 32 32]\n",
        "105\n",
        "(105, 3, 96, 96)\n",
        "Processing clip 3\n",
        "[ 0  0  0 ..., 32 32 32]"
       ]
      },
      {
       "output_type": "stream",
       "stream": "stdout",
       "text": [
        "\n",
        "80\n",
        "(80, 3, 96, 96)\n",
        "Processing clip 4\n",
        "[ 0  0  0 ..., 32 32 32]\n",
        "80\n",
        "(80, 3, 96, 96)\n",
        "Processing clip 5\n",
        "[ 0  0  0 ..., 32 32 32]\n",
        "83\n",
        "(83, 3, 96, 96)\n",
        "Processing clip 6"
       ]
      },
      {
       "output_type": "stream",
       "stream": "stdout",
       "text": [
        "\n",
        "[ 0  0  0 ..., 32 32 32]\n",
        "100\n",
        "(100, 3, 96, 96)\n",
        "Processing clip 7\n",
        "[ 0  0  0 ..., 32 32 32]\n",
        "97\n",
        "(97, 3, 96, 96)\n",
        "Processing clip 8\n",
        "[ 0  0  0 ..., 32 32 32]\n",
        "95\n",
        "(95, 3, 96, 96)"
       ]
      },
      {
       "output_type": "stream",
       "stream": "stdout",
       "text": [
        "\n",
        "Processing clip 9\n",
        "[ 0  0  0 ..., 32 32 32]\n",
        "115\n",
        "(115, 3, 96, 96)\n",
        "Processing clip 10\n",
        "[ 0  0  0 ..., 32 32 32]\n",
        "130\n",
        "(130, 3, 96, 96)"
       ]
      },
      {
       "output_type": "stream",
       "stream": "stdout",
       "text": [
        "\n",
        "Processing clip 11\n",
        "[ 0  0  0 ..., 32 32 32]\n",
        "127\n",
        "(127, 3, 96, 96)\n",
        "Processing clip 12"
       ]
      },
      {
       "output_type": "stream",
       "stream": "stdout",
       "text": [
        "\n",
        "[ 0  0  0 ..., 32 32 32]\n",
        "108\n",
        "(108, 3, 96, 96)\n",
        "Processing clip 13\n",
        "[ 0  0  0 ..., 32 32 32]\n",
        "109\n",
        "(109, 3, 96, 96)\n",
        "Processing clip 14"
       ]
      },
      {
       "output_type": "stream",
       "stream": "stdout",
       "text": [
        "\n",
        "[ 0  0  0 ..., 32 32 32]\n",
        "110\n",
        "(110, 3, 96, 96)\n",
        "Processing clip 15\n",
        "[ 0  0  0 ..., 32 32 32]\n",
        "91\n",
        "(91, 3, 96, 96)\n",
        "Processing clip 16\n",
        "[ 0  0  0 ..., 32 32 32]"
       ]
      },
      {
       "output_type": "stream",
       "stream": "stdout",
       "text": [
        "\n",
        "93\n",
        "(93, 3, 96, 96)\n",
        "Processing clip 17\n",
        "[ 0  0  0 ..., 32 32 32]\n",
        "96\n",
        "(96, 3, 96, 96)\n",
        "Processing clip 18\n",
        "[ 0  0  0 ..., 32 32 32]\n",
        "88\n",
        "(88, 3, 96, 96)\n",
        "Processing clip 19"
       ]
      },
      {
       "output_type": "stream",
       "stream": "stdout",
       "text": [
        "\n",
        "[ 0  0  0 ..., 32 32 32]\n",
        "85\n",
        "(85, 3, 96, 96)\n",
        "Processing clip 20\n",
        "[ 0  0  0 ..., 32 32 32]\n",
        "84\n",
        "(84, 3, 96, 96)\n",
        "Processing clip 21\n",
        "[ 0  0  0 ..., 32 32 32]\n",
        "79\n",
        "(79, 3, 96, 96)\n",
        "Processing clip 22"
       ]
      },
      {
       "output_type": "stream",
       "stream": "stdout",
       "text": [
        "\n",
        "[ 0  0  0 ..., 32 32 32]\n",
        "78\n",
        "(78, 3, 96, 96)\n",
        "Processing clip 23\n",
        "[ 0  0  0 ..., 32 32 32]\n",
        "76\n",
        "(76, 3, 96, 96)\n",
        "Processing clip 24\n",
        "[ 0  0  0 ..., 32 32 32]\n",
        "90\n",
        "(90, 3, 96, 96)\n",
        "Processing clip 25"
       ]
      },
      {
       "output_type": "stream",
       "stream": "stdout",
       "text": [
        "\n",
        "[ 0  0  0 ..., 32 32 32]\n",
        "93\n",
        "(93, 3, 96, 96)\n",
        "Processing clip 26\n",
        "[ 0  0  0 ..., 32 32 32]\n",
        "95\n",
        "(95, 3, 96, 96)\n",
        "Processing clip 27\n",
        "[ 0  0  0 ..., 32 32 32]\n",
        "79\n",
        "(79, 3, 96, 96)\n",
        "Processing clip 28"
       ]
      },
      {
       "output_type": "stream",
       "stream": "stdout",
       "text": [
        "\n",
        "[ 0  0  0 ..., 32 32 32]\n",
        "76\n",
        "(76, 3, 96, 96)\n",
        "Processing clip 29\n",
        "[ 0  0  0 ..., 32 32 32]\n",
        "76\n",
        "(76, 3, 96, 96)\n",
        "Processing clip 30\n",
        "[ 0  0  0 ..., 32 32 32]\n",
        "82\n",
        "(82, 3, 96, 96)\n",
        "Processing clip 31"
       ]
      },
      {
       "output_type": "stream",
       "stream": "stdout",
       "text": [
        "\n",
        "[ 0  0  0 ..., 32 32 32]\n",
        "78\n",
        "(78, 3, 96, 96)\n",
        "Processing clip 32\n",
        "[ 0  0  0 ..., 32 32 32]\n",
        "80\n",
        "(80, 3, 96, 96)\n",
        "(3033, 3, 96, 96)"
       ]
      },
      {
       "output_type": "stream",
       "stream": "stdout",
       "text": [
        " (4, 3033)\n",
        "Processing clip 0\n",
        "[ 0  0  0 ..., 32 32 32]\n",
        "102\n",
        "(102, 3, 96, 96)\n",
        "Processing clip 1\n",
        "[ 0  0  0 ..., 32 32 32]\n",
        "109\n",
        "(109, 3, 96, 96)\n",
        "Processing clip 2"
       ]
      },
      {
       "output_type": "stream",
       "stream": "stdout",
       "text": [
        "\n",
        "[ 0  0  0 ..., 32 32 32]\n",
        "105\n",
        "(105, 3, 96, 96)\n",
        "Processing clip 3\n",
        "[ 0  0  0 ..., 32 32 32]\n",
        "82\n",
        "(82, 3, 96, 96)\n",
        "Processing clip 4\n",
        "[ 0  0  0 ..., 32 32 32]\n",
        "81\n",
        "(81, 3, 96, 96)\n",
        "Processing clip 5"
       ]
      },
      {
       "output_type": "stream",
       "stream": "stdout",
       "text": [
        "\n",
        "[ 0  0  0 ..., 32 32 32]\n",
        "76\n",
        "(76, 3, 96, 96)\n",
        "Processing clip 6\n",
        "[ 0  0  0 ..., 32 32 32]\n",
        "94\n",
        "(94, 3, 96, 96)\n",
        "Processing clip 7\n",
        "[ 0  0  0 ..., 32 32 32]\n",
        "93\n",
        "(93, 3, 96, 96)\n",
        "Processing clip 8"
       ]
      },
      {
       "output_type": "stream",
       "stream": "stdout",
       "text": [
        "\n",
        "[ 0  0  0 ..., 32 32 32]\n",
        "93\n",
        "(93, 3, 96, 96)\n",
        "Processing clip 9\n",
        "[ 0  0  0 ..., 32 32 32]\n",
        "100\n",
        "(100, 3, 96, 96)\n",
        "Processing clip 10\n",
        "[ 0  0  0 ..., 32 32 32]\n",
        "107\n",
        "(107, 3, 96, 96)\n",
        "Processing clip 11"
       ]
      },
      {
       "output_type": "stream",
       "stream": "stdout",
       "text": [
        "\n",
        "[ 0  0  0 ..., 32 32 32]\n",
        "99\n",
        "(99, 3, 96, 96)\n",
        "Processing clip 12\n",
        "[ 0  0  0 ..., 32 32 32]\n",
        "97\n",
        "(97, 3, 96, 96)\n",
        "Processing clip 13\n",
        "[ 0  0  0 ..., 32 32 32]\n",
        "109\n",
        "(109, 3, 96, 96)"
       ]
      },
      {
       "output_type": "stream",
       "stream": "stdout",
       "text": [
        "\n",
        "Processing clip 14\n",
        "[ 0  0  0 ..., 32 32 32]\n",
        "95\n",
        "(95, 3, 96, 96)\n",
        "Processing clip 15\n",
        "[ 0  0  0 ..., 32 32 32]\n",
        "101\n",
        "(101, 3, 96, 96)\n",
        "Processing clip 16"
       ]
      },
      {
       "output_type": "stream",
       "stream": "stdout",
       "text": [
        "\n",
        "[ 0  0  0 ..., 32 32 32]\n",
        "106\n",
        "(106, 3, 96, 96)\n",
        "Processing clip 17\n",
        "[ 0  0  0 ..., 32 32 32]\n",
        "98\n",
        "(98, 3, 96, 96)\n",
        "Processing clip 18\n",
        "[ 0  0  0 ..., 32 32 32]"
       ]
      },
      {
       "output_type": "stream",
       "stream": "stdout",
       "text": [
        "\n",
        "94\n",
        "(94, 3, 96, 96)\n",
        "Processing clip 19\n",
        "[ 0  0  0 ..., 32 32 32]\n",
        "93\n",
        "(93, 3, 96, 96)\n",
        "Processing clip 20\n",
        "[ 0  0  0 ..., 32 32 32]\n",
        "95\n",
        "(95, 3, 96, 96)\n",
        "Processing clip 21"
       ]
      },
      {
       "output_type": "stream",
       "stream": "stdout",
       "text": [
        "\n",
        "[ 0  0  0 ..., 32 32 32]\n",
        "78\n",
        "(78, 3, 96, 96)\n",
        "Processing clip 22\n",
        "[ 0  0  0 ..., 32 32 32]\n",
        "74\n",
        "(74, 3, 96, 96)\n",
        "Processing clip 23\n",
        "[ 0  0  0 ..., 32 32 32]\n",
        "71\n",
        "(71, 3, 96, 96)\n",
        "Processing clip 24"
       ]
      },
      {
       "output_type": "stream",
       "stream": "stdout",
       "text": [
        "\n",
        "[ 0  0  0 ..., 32 32 32]\n",
        "99\n",
        "(99, 3, 96, 96)\n",
        "Processing clip 25\n",
        "[ 0  0  0 ..., 32 32 32]\n",
        "93\n",
        "(93, 3, 96, 96)\n",
        "Processing clip 26\n",
        "[ 0  0  0 ..., 32 32 32]\n",
        "90\n",
        "(90, 3, 96, 96)\n",
        "Processing clip 27"
       ]
      },
      {
       "output_type": "stream",
       "stream": "stdout",
       "text": [
        "\n",
        "[ 0  0  0 ..., 32 32 32]\n",
        "78\n",
        "(78, 3, 96, 96)\n",
        "Processing clip 28\n",
        "[ 0  0  0 ..., 32 32 32]\n",
        "83\n",
        "(83, 3, 96, 96)\n",
        "Processing clip 29\n",
        "[ 0  0  0 ..., 32 32 32]\n",
        "79\n",
        "(79, 3, 96, 96)\n",
        "Processing clip 30"
       ]
      },
      {
       "output_type": "stream",
       "stream": "stdout",
       "text": [
        "\n",
        "[ 0  0  0 ..., 32 32 32]\n",
        "83\n",
        "(83, 3, 96, 96)\n",
        "Processing clip 31\n",
        "[ 0  0  0 ..., 32 32 32]\n",
        "92\n",
        "(92, 3, 96, 96)\n",
        "Processing clip 32\n",
        "[ 0  0  0 ..., 32 32 32]\n",
        "84\n",
        "(84, 3, 96, 96)\n",
        "(2534, 3, 96, 96)"
       ]
      },
      {
       "output_type": "stream",
       "stream": "stdout",
       "text": [
        " (4, 2534)\n",
        "Processing clip 0\n",
        "[ 0  0  0 ..., 32 32 32]\n",
        "79\n",
        "(79, 3, 96, 96)\n",
        "Processing clip 1\n",
        "[ 0  0  0 ..., 32 32 32]\n",
        "77\n",
        "(77, 3, 96, 96)\n",
        "Processing clip 2\n",
        "[ 0  0  0 ..., 32 32 32]\n",
        "75\n",
        "(75, 3, 96, 96)\n",
        "Processing clip 3"
       ]
      },
      {
       "output_type": "stream",
       "stream": "stdout",
       "text": [
        "\n",
        "[ 0  0  0 ..., 32 32 32]\n",
        "69\n",
        "(69, 3, 96, 96)\n",
        "Processing clip 4\n",
        "[ 0  0  0 ..., 32 32 32]\n",
        "68\n",
        "(68, 3, 96, 96)\n",
        "Processing clip 5\n",
        "[ 0  0  0 ..., 32 32 32]\n",
        "67\n",
        "(67, 3, 96, 96)\n",
        "Processing clip 6"
       ]
      },
      {
       "output_type": "stream",
       "stream": "stdout",
       "text": [
        "\n",
        "[ 0  0  0 ..., 32 32 32]\n",
        "78\n",
        "(78, 3, 96, 96)\n",
        "Processing clip 7\n",
        "[ 0  0  0 ..., 32 32 32]\n",
        "78\n",
        "(78, 3, 96, 96)\n",
        "Processing clip 8\n",
        "[ 0  0  0 ..., 32 32 32]\n",
        "73\n",
        "(73, 3, 96, 96)\n",
        "Processing clip 9"
       ]
      },
      {
       "output_type": "stream",
       "stream": "stdout",
       "text": [
        "\n",
        "[ 0  0  0 ..., 32 32 32]\n",
        "95\n",
        "(95, 3, 96, 96)\n",
        "Processing clip 10\n",
        "[ 0  0  0 ..., 32 32 32]\n",
        "97\n",
        "(97, 3, 96, 96)\n",
        "Processing clip 11\n",
        "[ 0  0  0 ..., 32 32 32]\n",
        "96\n",
        "(96, 3, 96, 96)\n",
        "Processing clip 12"
       ]
      },
      {
       "output_type": "stream",
       "stream": "stdout",
       "text": [
        "\n",
        "[ 0  0  0 ..., 32 32 32]\n",
        "97\n",
        "(97, 3, 96, 96)\n",
        "Processing clip 13\n",
        "[ 0  0  0 ..., 32 32 32]\n",
        "95\n",
        "(95, 3, 96, 96)\n",
        "Processing clip 14\n",
        "[ 0  0  0 ..., 32 32 32]\n",
        "93\n",
        "(93, 3, 96, 96)\n",
        "Processing clip 15"
       ]
      },
      {
       "output_type": "stream",
       "stream": "stdout",
       "text": [
        "\n",
        "[ 0  0  0 ..., 32 32 32]\n",
        "87\n",
        "(87, 3, 96, 96)\n",
        "Processing clip 16\n",
        "[ 0  0  0 ..., 32 32 32]\n",
        "84\n",
        "(84, 3, 96, 96)\n",
        "Processing clip 17\n",
        "[ 0  0  0 ..., 32 32 32]\n",
        "83\n",
        "(83, 3, 96, 96)\n",
        "Processing clip 18"
       ]
      },
      {
       "output_type": "stream",
       "stream": "stdout",
       "text": [
        "\n",
        "[ 0  0  0 ..., 32 32 32]\n",
        "80\n",
        "(80, 3, 96, 96)\n",
        "Processing clip 19\n",
        "[ 0  0  0 ..., 32 32 32]\n",
        "78\n",
        "(78, 3, 96, 96)\n",
        "Processing clip 20\n",
        "[ 0  0  0 ..., 32 32 32]\n",
        "79\n",
        "(79, 3, 96, 96)\n",
        "Processing clip 21"
       ]
      },
      {
       "output_type": "stream",
       "stream": "stdout",
       "text": [
        "\n",
        "[ 0  0  0 ..., 32 32 32]\n",
        "67\n",
        "(67, 3, 96, 96)\n",
        "Processing clip 22\n",
        "[ 0  0  0 ..., 32 32 32]\n",
        "64\n",
        "(64, 3, 96, 96)\n",
        "Processing clip 23\n",
        "[ 0  0  0 ..., 32 32 32]\n",
        "65\n",
        "(65, 3, 96, 96)\n",
        "Processing clip 24\n",
        "[ 0  0  0 ..., 32 32 32]"
       ]
      },
      {
       "output_type": "stream",
       "stream": "stdout",
       "text": [
        "\n",
        "74\n",
        "(74, 3, 96, 96)\n",
        "Processing clip 25\n",
        "[ 0  0  0 ..., 32 32 32]\n",
        "73\n",
        "(73, 3, 96, 96)\n",
        "Processing clip 26\n",
        "[ 0  0  0 ..., 32 32 32]\n",
        "70\n",
        "(70, 3, 96, 96)\n",
        "Processing clip 27"
       ]
      },
      {
       "output_type": "stream",
       "stream": "stdout",
       "text": [
        "\n",
        "[ 0  0  0 ..., 32 32 32]\n",
        "66\n",
        "(66, 3, 96, 96)\n",
        "Processing clip 28\n",
        "[ 0  0  0 ..., 32 32 32]\n",
        "65\n",
        "(65, 3, 96, 96)\n",
        "Processing clip 29\n",
        "[ 0  0  0 ..., 32 32 32]\n",
        "65\n",
        "(65, 3, 96, 96)\n",
        "Processing clip 30\n",
        "[ 0  0  0 ..., 32 32 32]"
       ]
      },
      {
       "output_type": "stream",
       "stream": "stdout",
       "text": [
        "\n",
        "69\n",
        "(69, 3, 96, 96)\n",
        "Processing clip 31\n",
        "[ 0  0  0 ..., 32 32 32]\n",
        "64\n",
        "(64, 3, 96, 96)\n",
        "Processing clip 32\n",
        "[ 0  0  0 ..., 32 32 32]\n",
        "64\n",
        "(64, 3, 96, 96)\n",
        "(2915, 3, 96, 96)"
       ]
      },
      {
       "output_type": "stream",
       "stream": "stdout",
       "text": [
        " (4, 2915)\n",
        "Processing clip 0\n",
        "[ 0  0  0 ..., 32 32 32]\n",
        "103\n",
        "(103, 3, 96, 96)\n",
        "Processing clip 1\n",
        "[ 0  0  0 ..., 32 32 32]\n",
        "103\n",
        "(103, 3, 96, 96)\n",
        "Processing clip 2"
       ]
      },
      {
       "output_type": "stream",
       "stream": "stdout",
       "text": [
        "\n",
        "[ 0  0  0 ..., 32 32 32]\n",
        "101\n",
        "(101, 3, 96, 96)\n",
        "Processing clip 3\n",
        "[ 0  0  0 ..., 32 32 32]\n",
        "84\n",
        "(84, 3, 96, 96)\n",
        "Processing clip 4\n",
        "[ 0  0  0 ..., 32 32 32]\n",
        "87\n",
        "(87, 3, 96, 96)\n",
        "Processing clip 5"
       ]
      },
      {
       "output_type": "stream",
       "stream": "stdout",
       "text": [
        "\n",
        "[ 0  0  0 ..., 32 32 32]\n",
        "85\n",
        "(85, 3, 96, 96)\n",
        "Processing clip 6\n",
        "[ 0  0  0 ..., 32 32 32]\n",
        "90\n",
        "(90, 3, 96, 96)\n",
        "Processing clip 7\n",
        "[ 0  0  0 ..., 32 32 32]\n",
        "92\n",
        "(92, 3, 96, 96)\n",
        "Processing clip 8"
       ]
      },
      {
       "output_type": "stream",
       "stream": "stdout",
       "text": [
        "\n",
        "[ 0  0  0 ..., 32 32 32]\n",
        "87\n",
        "(87, 3, 96, 96)\n",
        "Processing clip 9\n",
        "[ 0  0  0 ..., 32 32 32]\n",
        "75\n",
        "(75, 3, 96, 96)\n",
        "Processing clip 10\n",
        "[ 0  0  0 ..., 32 32 32]\n",
        "78\n",
        "(78, 3, 96, 96)\n",
        "Processing clip 11"
       ]
      },
      {
       "output_type": "stream",
       "stream": "stdout",
       "text": [
        "\n",
        "[ 0  0  0 ..., 32 32 32]\n",
        "77\n",
        "(77, 3, 96, 96)\n",
        "Processing clip 12\n",
        "[ 0  0  0 ..., 32 32 32]\n",
        "80\n",
        "(80, 3, 96, 96)\n",
        "Processing clip 13\n",
        "[ 0  0  0 ..., 32 32 32]\n",
        "90\n",
        "(90, 3, 96, 96)\n",
        "Processing clip 14"
       ]
      },
      {
       "output_type": "stream",
       "stream": "stdout",
       "text": [
        "\n",
        "[ 0  0  0 ..., 32 32 32]\n",
        "89\n",
        "(89, 3, 96, 96)\n",
        "Processing clip 15\n",
        "[ 0  0  0 ..., 32 32 32]\n",
        "73\n",
        "(73, 3, 96, 96)\n",
        "Processing clip 16\n",
        "[ 0  0  0 ..., 32 32 32]\n",
        "66\n",
        "(66, 3, 96, 96)\n",
        "Processing clip 17"
       ]
      },
      {
       "output_type": "stream",
       "stream": "stdout",
       "text": [
        "\n",
        "[ 0  0  0 ..., 32 32 32]\n",
        "64\n",
        "(64, 3, 96, 96)\n",
        "Processing clip 18\n",
        "[ 0  0  0 ..., 32 32 32]\n",
        "115\n",
        "(115, 3, 96, 96)\n",
        "Processing clip 19\n",
        "[ 0  0  0 ..., 32 32 32]\n",
        "113\n",
        "(113, 3, 96, 96)\n",
        "Processing clip 20"
       ]
      },
      {
       "output_type": "stream",
       "stream": "stdout",
       "text": [
        "\n",
        "[ 0  0  0 ..., 32 32 32]\n",
        "111\n",
        "(111, 3, 96, 96)\n",
        "Processing clip 21\n",
        "[ 0  0  0 ..., 32 32 32]\n",
        "103\n",
        "(103, 3, 96, 96)\n",
        "Processing clip 22"
       ]
      },
      {
       "output_type": "stream",
       "stream": "stdout",
       "text": [
        "\n",
        "[ 0  0  0 ..., 32 32 32]\n",
        "104\n",
        "(104, 3, 96, 96)\n",
        "Processing clip 23\n",
        "[ 0  0  0 ..., 32 32 32]\n",
        "103\n",
        "(103, 3, 96, 96)\n",
        "Processing clip 24"
       ]
      },
      {
       "output_type": "stream",
       "stream": "stdout",
       "text": [
        "\n",
        "[ 0  0  0 ..., 32 32 32]\n",
        "88\n",
        "(88, 3, 96, 96)\n",
        "Processing clip 25\n",
        "[ 0  0  0 ..., 32 32 32]\n",
        "91\n",
        "(91, 3, 96, 96)\n",
        "Processing clip 26\n",
        "[ 0  0  0 ..., 32 32 32]\n",
        "84\n",
        "(84, 3, 96, 96)\n",
        "Processing clip 27"
       ]
      },
      {
       "output_type": "stream",
       "stream": "stdout",
       "text": [
        "\n",
        "[ 0  0  0 ..., 32 32 32]\n",
        "81\n",
        "(81, 3, 96, 96)\n",
        "Processing clip 28\n",
        "[ 0  0  0 ..., 32 32 32]\n",
        "83\n",
        "(83, 3, 96, 96)\n",
        "Processing clip 29\n",
        "[ 0  0  0 ..., 32 32 32]\n",
        "84\n",
        "(84, 3, 96, 96)\n",
        "Processing clip 30"
       ]
      },
      {
       "output_type": "stream",
       "stream": "stdout",
       "text": [
        "\n",
        "[ 0  0  0 ..., 32 32 32]\n",
        "81\n",
        "(81, 3, 96, 96)\n",
        "Processing clip 31\n",
        "[ 0  0  0 ..., 32 32 32]\n",
        "77\n",
        "(77, 3, 96, 96)\n",
        "Processing clip 32\n",
        "[ 0  0  0 ..., 32 32 32]\n",
        "73\n",
        "(73, 3, 96, 96)\n",
        "(2841, 3, 96, 96)"
       ]
      },
      {
       "output_type": "stream",
       "stream": "stdout",
       "text": [
        " (4, 2841)\n",
        "Processing clip 0\n",
        "[ 0  0  0 ..., 32 32 32]\n",
        "105\n",
        "(105, 3, 96, 96)\n",
        "Processing clip 1\n",
        "[ 0  0  0 ..., 32 32 32]\n",
        "117\n",
        "(117, 3, 96, 96)\n",
        "Processing clip 2"
       ]
      },
      {
       "output_type": "stream",
       "stream": "stdout",
       "text": [
        "\n",
        "[ 0  0  0 ..., 32 32 32]\n",
        "109\n",
        "(109, 3, 96, 96)\n",
        "Processing clip 3\n",
        "[ 0  0  0 ..., 32 32 32]\n",
        "74\n",
        "(74, 3, 96, 96)\n",
        "Processing clip 4\n",
        "[ 0  0  0 ..., 32 32 32]\n",
        "79\n",
        "(79, 3, 96, 96)\n",
        "Processing clip 5"
       ]
      },
      {
       "output_type": "stream",
       "stream": "stdout",
       "text": [
        "\n",
        "[ 0  0  0 ..., 32 32 32]\n",
        "83\n",
        "(83, 3, 96, 96)\n",
        "Processing clip 6\n",
        "[ 0  0  0 ..., 32 32 32]\n",
        "83\n",
        "(83, 3, 96, 96)\n",
        "Processing clip 7\n",
        "[ 0  0  0 ..., 32 32 32]\n",
        "90\n",
        "(90, 3, 96, 96)\n",
        "Processing clip 8"
       ]
      },
      {
       "output_type": "stream",
       "stream": "stdout",
       "text": [
        "\n",
        "[ 0  0  0 ..., 32 32 32]\n",
        "84\n",
        "(84, 3, 96, 96)\n",
        "Processing clip 9\n",
        "[ 0  0  0 ..., 32 32 32]\n",
        "66\n",
        "(66, 3, 96, 96)\n",
        "Processing clip 10\n",
        "[ 0  0  0 ..., 32 32 32]\n",
        "69\n",
        "(69, 3, 96, 96)\n",
        "Processing clip 11"
       ]
      },
      {
       "output_type": "stream",
       "stream": "stdout",
       "text": [
        "\n",
        "[ 0  0  0 ..., 32 32 32]\n",
        "73\n",
        "(73, 3, 96, 96)\n",
        "Processing clip 12\n",
        "[ 0  0  0 ..., 32 32 32]\n",
        "67\n",
        "(67, 3, 96, 96)\n",
        "Processing clip 13\n",
        "[ 0  0  0 ..., 32 32 32]\n",
        "75\n",
        "(75, 3, 96, 96)\n",
        "Processing clip 14"
       ]
      },
      {
       "output_type": "stream",
       "stream": "stdout",
       "text": [
        "\n",
        "[ 0  0  0 ..., 32 32 32]\n",
        "70\n",
        "(70, 3, 96, 96)\n",
        "Processing clip 15\n",
        "[ 0  0  0 ..., 32 32 32]\n",
        "66\n",
        "(66, 3, 96, 96)\n",
        "Processing clip 16\n",
        "[ 0  0  0 ..., 32 32 32]\n",
        "68\n",
        "(68, 3, 96, 96)\n",
        "Processing clip 17"
       ]
      },
      {
       "output_type": "stream",
       "stream": "stdout",
       "text": [
        "\n",
        "[ 0  0  0 ..., 32 32 32]\n",
        "75\n",
        "(75, 3, 96, 96)\n",
        "Processing clip 18\n",
        "[ 0  0  0 ..., 32 32 32]\n",
        "111\n",
        "(111, 3, 96, 96)\n",
        "Processing clip 19\n",
        "[ 0  0  0 ..., 32 32 32]\n",
        "110\n",
        "(110, 3, 96, 96)\n",
        "Processing clip 20"
       ]
      },
      {
       "output_type": "stream",
       "stream": "stdout",
       "text": [
        "\n",
        "[ 0  0  0 ..., 32 32 32]\n",
        "111\n",
        "(111, 3, 96, 96)\n",
        "Processing clip 21\n",
        "[ 0  0  0 ..., 32 32 32]\n",
        "106\n",
        "(106, 3, 96, 96)\n",
        "Processing clip 22"
       ]
      },
      {
       "output_type": "stream",
       "stream": "stdout",
       "text": [
        "\n",
        "[ 0  0  0 ..., 32 32 32]\n",
        "112\n",
        "(112, 3, 96, 96)\n",
        "Processing clip 23\n",
        "[ 0  0  0 ..., 32 32 32]\n",
        "112\n",
        "(112, 3, 96, 96)\n",
        "Processing clip 24"
       ]
      },
      {
       "output_type": "stream",
       "stream": "stdout",
       "text": [
        "\n",
        "[ 0  0  0 ..., 32 32 32]\n",
        "79\n",
        "(79, 3, 96, 96)\n",
        "Processing clip 25\n",
        "[ 0  0  0 ..., 32 32 32]\n",
        "88\n",
        "(88, 3, 96, 96)\n",
        "Processing clip 26\n",
        "[ 0  0  0 ..., 32 32 32]\n",
        "95\n",
        "(95, 3, 96, 96)\n",
        "Processing clip 27"
       ]
      },
      {
       "output_type": "stream",
       "stream": "stdout",
       "text": [
        "\n",
        "[ 0  0  0 ..., 32 32 32]\n",
        "77\n",
        "(77, 3, 96, 96)\n",
        "Processing clip 28\n",
        "[ 0  0  0 ..., 32 32 32]\n",
        "85\n",
        "(85, 3, 96, 96)\n",
        "Processing clip 29\n",
        "[ 0  0  0 ..., 32 32 32]\n",
        "84\n",
        "(84, 3, 96, 96)\n",
        "Processing clip 30"
       ]
      },
      {
       "output_type": "stream",
       "stream": "stdout",
       "text": [
        "\n",
        "[ 0  0  0 ..., 32 32 32]\n",
        "74\n",
        "(74, 3, 96, 96)\n",
        "Processing clip 31\n",
        "[ 0  0  0 ..., 32 32 32]\n",
        "74\n",
        "(74, 3, 96, 96)\n",
        "Processing clip 32\n",
        "[ 0  0  0 ..., 32 32 32]\n",
        "70\n",
        "(70, 3, 96, 96)\n",
        "(3291, 3, 96, 96)"
       ]
      },
      {
       "output_type": "stream",
       "stream": "stdout",
       "text": [
        " (4, 3291)\n",
        "Processing clip 0\n",
        "[ 0  0  0 ..., 32 32 32]\n",
        "119\n",
        "(119, 3, 96, 96)\n",
        "Processing clip 1\n",
        "[ 0  0  0 ..., 32 32 32]\n",
        "131\n",
        "(131, 3, 96, 96)\n",
        "Processing clip 2"
       ]
      },
      {
       "output_type": "stream",
       "stream": "stdout",
       "text": [
        "\n",
        "[ 0  0  0 ..., 32 32 32]\n",
        "149\n",
        "(149, 3, 96, 96)\n",
        "Processing clip 3\n",
        "[ 0  0  0 ..., 32 32 32]\n",
        "92\n",
        "(92, 3, 96, 96)\n",
        "Processing clip 4"
       ]
      },
      {
       "output_type": "stream",
       "stream": "stdout",
       "text": [
        "\n",
        "[ 0  0  0 ..., 32 32 32]\n",
        "89\n",
        "(89, 3, 96, 96)\n",
        "Processing clip 5\n",
        "[ 0  0  0 ..., 32 32 32]\n",
        "88\n",
        "(88, 3, 96, 96)\n",
        "Processing clip 6\n",
        "[ 0  0  0 ..., 32 32 32]\n",
        "119\n",
        "(119, 3, 96, 96)\n",
        "Processing clip 7"
       ]
      },
      {
       "output_type": "stream",
       "stream": "stdout",
       "text": [
        "\n",
        "[ 0  0  0 ..., 32 32 32]\n",
        "103\n",
        "(103, 3, 96, 96)\n",
        "Processing clip 8\n",
        "[ 0  0  0 ..., 32 32 32]\n",
        "94\n",
        "(94, 3, 96, 96)\n",
        "Processing clip 9\n",
        "[ 0  0  0 ..., 32 32 32]"
       ]
      },
      {
       "output_type": "stream",
       "stream": "stdout",
       "text": [
        "\n",
        "79\n",
        "(79, 3, 96, 96)\n",
        "Processing clip 10\n",
        "[ 0  0  0 ..., 32 32 32]\n",
        "80\n",
        "(80, 3, 96, 96)\n",
        "Processing clip 11\n",
        "[ 0  0  0 ..., 32 32 32]\n",
        "84\n",
        "(84, 3, 96, 96)\n",
        "Processing clip 12"
       ]
      },
      {
       "output_type": "stream",
       "stream": "stdout",
       "text": [
        "\n",
        "[ 0  0  0 ..., 32 32 32]\n",
        "89\n",
        "(89, 3, 96, 96)\n",
        "Processing clip 13\n",
        "[ 0  0  0 ..., 32 32 32]\n",
        "91\n",
        "(91, 3, 96, 96)\n",
        "Processing clip 14\n",
        "[ 0  0  0 ..., 32 32 32]\n",
        "86\n",
        "(86, 3, 96, 96)\n",
        "Processing clip 15"
       ]
      },
      {
       "output_type": "stream",
       "stream": "stdout",
       "text": [
        "\n",
        "[ 0  0  0 ..., 32 32 32]\n",
        "76\n",
        "(76, 3, 96, 96)\n",
        "Processing clip 16\n",
        "[ 0  0  0 ..., 32 32 32]\n",
        "78\n",
        "(78, 3, 96, 96)\n",
        "Processing clip 17\n",
        "[ 0  0  0 ..., 32 32 32]\n",
        "71\n",
        "(71, 3, 96, 96)\n",
        "Processing clip 18"
       ]
      },
      {
       "output_type": "stream",
       "stream": "stdout",
       "text": [
        "\n",
        "[ 0  0  0 ..., 32 32 32]\n",
        "119\n",
        "(119, 3, 96, 96)\n",
        "Processing clip 19\n",
        "[ 0  0  0 ..., 32 32 32]\n",
        "131\n",
        "(131, 3, 96, 96)\n",
        "Processing clip 20"
       ]
      },
      {
       "output_type": "stream",
       "stream": "stdout",
       "text": [
        "\n",
        "[ 0  0  0 ..., 32 32 32]\n",
        "129\n",
        "(129, 3, 96, 96)\n",
        "Processing clip 21\n",
        "[ 0  0  0 ..., 32 32 32]\n",
        "99\n",
        "(99, 3, 96, 96)\n",
        "Processing clip 22"
       ]
      },
      {
       "output_type": "stream",
       "stream": "stdout",
       "text": [
        "\n",
        "[ 0  0  0 ..., 32 32 32]\n",
        "107\n",
        "(107, 3, 96, 96)\n",
        "Processing clip 23\n",
        "[ 0  0  0 ..., 32 32 32]\n",
        "106\n",
        "(106, 3, 96, 96)\n",
        "Processing clip 24"
       ]
      },
      {
       "output_type": "stream",
       "stream": "stdout",
       "text": [
        "\n",
        "[ 0  0  0 ..., 32 32 32]\n",
        "110\n",
        "(110, 3, 96, 96)\n",
        "Processing clip 25\n",
        "[ 0  0  0 ..., 32 32 32]\n",
        "114\n",
        "(114, 3, 96, 96)\n",
        "Processing clip 26"
       ]
      },
      {
       "output_type": "stream",
       "stream": "stdout",
       "text": [
        "\n",
        "[ 0  0  0 ..., 32 32 32]\n",
        "108\n",
        "(108, 3, 96, 96)\n",
        "Processing clip 27\n",
        "[ 0  0  0 ..., 32 32 32]\n",
        "92\n",
        "(92, 3, 96, 96)\n",
        "Processing clip 28\n",
        "[ 0  0  0 ..., 32 32 32]"
       ]
      },
      {
       "output_type": "stream",
       "stream": "stdout",
       "text": [
        "\n",
        "92\n",
        "(92, 3, 96, 96)\n",
        "Processing clip 29\n",
        "[ 0  0  0 ..., 32 32 32]\n",
        "92\n",
        "(92, 3, 96, 96)\n",
        "Processing clip 30\n",
        "[ 0  0  0 ..., 32 32 32]\n",
        "106\n",
        "(106, 3, 96, 96)\n",
        "Processing clip 31"
       ]
      },
      {
       "output_type": "stream",
       "stream": "stdout",
       "text": [
        "\n",
        "[ 0  0  0 ..., 32 32 32]\n",
        "82\n",
        "(82, 3, 96, 96)\n",
        "Processing clip 32\n",
        "[ 0  0  0 ..., 32 32 32]\n",
        "86\n",
        "(86, 3, 96, 96)\n",
        "(3180, 3, 96, 96)"
       ]
      },
      {
       "output_type": "stream",
       "stream": "stdout",
       "text": [
        " (4, 3180)\n",
        "Processing clip 0\n",
        "[ 0  0  0 ..., 32 32 32]\n",
        "112\n",
        "(112, 3, 96, 96)\n",
        "Processing clip 1\n",
        "[ 0  0  0 ..., 32 32 32]\n",
        "115\n",
        "(115, 3, 96, 96)\n",
        "Processing clip 2"
       ]
      },
      {
       "output_type": "stream",
       "stream": "stdout",
       "text": [
        "\n",
        "[ 0  0  0 ..., 32 32 32]\n",
        "125\n",
        "(125, 3, 96, 96)\n",
        "Processing clip 3\n",
        "[ 0  0  0 ..., 32 32 32]\n",
        "97\n",
        "(97, 3, 96, 96)\n",
        "Processing clip 4"
       ]
      },
      {
       "output_type": "stream",
       "stream": "stdout",
       "text": [
        "\n",
        "[ 0  0  0 ..., 32 32 32]\n",
        "101\n",
        "(101, 3, 96, 96)\n",
        "Processing clip 5\n",
        "[ 0  0  0 ..., 32 32 32]\n",
        "99\n",
        "(99, 3, 96, 96)\n",
        "Processing clip 6\n",
        "[ 0  0  0 ..., 32 32 32]"
       ]
      },
      {
       "output_type": "stream",
       "stream": "stdout",
       "text": [
        "\n",
        "93\n",
        "(93, 3, 96, 96)\n",
        "Processing clip 7\n",
        "[ 0  0  0 ..., 32 32 32]\n",
        "96\n",
        "(96, 3, 96, 96)\n",
        "Processing clip 8\n",
        "[ 0  0  0 ..., 32 32 32]\n",
        "102\n",
        "(102, 3, 96, 96)\n",
        "Processing clip 9"
       ]
      },
      {
       "output_type": "stream",
       "stream": "stdout",
       "text": [
        "\n",
        "[ 0  0  0 ..., 32 32 32]\n",
        "80\n",
        "(80, 3, 96, 96)\n",
        "Processing clip 10\n",
        "[ 0  0  0 ..., 32 32 32]\n",
        "86\n",
        "(86, 3, 96, 96)\n",
        "Processing clip 11\n",
        "[ 0  0  0 ..., 32 32 32]\n",
        "77\n",
        "(77, 3, 96, 96)\n",
        "Processing clip 12"
       ]
      },
      {
       "output_type": "stream",
       "stream": "stdout",
       "text": [
        "\n",
        "[ 0  0  0 ..., 32 32 32]\n",
        "97\n",
        "(97, 3, 96, 96)\n",
        "Processing clip 13\n",
        "[ 0  0  0 ..., 32 32 32]\n",
        "91\n",
        "(91, 3, 96, 96)\n",
        "Processing clip 14\n",
        "[ 0  0  0 ..., 32 32 32]\n",
        "86\n",
        "(86, 3, 96, 96)\n",
        "Processing clip 15"
       ]
      },
      {
       "output_type": "stream",
       "stream": "stdout",
       "text": [
        "\n",
        "[ 0  0  0 ..., 32 32 32]\n",
        "92\n",
        "(92, 3, 96, 96)\n",
        "Processing clip 16\n",
        "[ 0  0  0 ..., 32 32 32]\n",
        "77\n",
        "(77, 3, 96, 96)\n",
        "Processing clip 17\n",
        "[ 0  0  0 ..., 32 32 32]\n",
        "76\n",
        "(76, 3, 96, 96)\n",
        "Processing clip 18"
       ]
      },
      {
       "output_type": "stream",
       "stream": "stdout",
       "text": [
        "\n",
        "[ 0  0  0 ..., 32 32 32]\n",
        "123\n",
        "(123, 3, 96, 96)\n",
        "Processing clip 19\n",
        "[ 0  0  0 ..., 32 32 32]\n",
        "113\n",
        "(113, 3, 96, 96)\n",
        "Processing clip 20"
       ]
      },
      {
       "output_type": "stream",
       "stream": "stdout",
       "text": [
        "\n",
        "[ 0  0  0 ..., 32 32 32]\n",
        "109\n",
        "(109, 3, 96, 96)\n",
        "Processing clip 21\n",
        "[ 0  0  0 ..., 32 32 32]\n",
        "121\n",
        "(121, 3, 96, 96)\n",
        "Processing clip 22"
       ]
      },
      {
       "output_type": "stream",
       "stream": "stdout",
       "text": [
        "\n",
        "[ 0  0  0 ..., 32 32 32]\n",
        "114\n",
        "(114, 3, 96, 96)\n",
        "Processing clip 23\n",
        "[ 0  0  0 ..., 32 32 32]\n",
        "109\n",
        "(109, 3, 96, 96)\n",
        "Processing clip 24"
       ]
      },
      {
       "output_type": "stream",
       "stream": "stdout",
       "text": [
        "\n",
        "[ 0  0  0 ..., 32 32 32]\n",
        "97\n",
        "(97, 3, 96, 96)\n",
        "Processing clip 25\n",
        "[ 0  0  0 ..., 32 32 32]\n",
        "92\n",
        "(92, 3, 96, 96)\n",
        "Processing clip 26\n",
        "[ 0  0  0 ..., 32 32 32]\n",
        "91\n",
        "(91, 3, 96, 96)\n",
        "Processing clip 27"
       ]
      },
      {
       "output_type": "stream",
       "stream": "stdout",
       "text": [
        "\n",
        "[ 0  0  0 ..., 32 32 32]\n",
        "82\n",
        "(82, 3, 96, 96)\n",
        "Processing clip 28\n",
        "[ 0  0  0 ..., 32 32 32]\n",
        "91\n",
        "(91, 3, 96, 96)\n",
        "Processing clip 29\n",
        "[ 0  0  0 ..., 32 32 32]\n",
        "97\n",
        "(97, 3, 96, 96)\n",
        "Processing clip 30"
       ]
      },
      {
       "output_type": "stream",
       "stream": "stdout",
       "text": [
        "\n",
        "[ 0  0  0 ..., 32 32 32]\n",
        "82\n",
        "(82, 3, 96, 96)\n",
        "Processing clip 31\n",
        "[ 0  0  0 ..., 32 32 32]\n",
        "78\n",
        "(78, 3, 96, 96)\n",
        "Processing clip 32\n",
        "[ 0  0  0 ..., 32 32 32]\n",
        "79\n",
        "(79, 3, 96, 96)\n",
        "(3264, 3, 96, 96)"
       ]
      },
      {
       "output_type": "stream",
       "stream": "stdout",
       "text": [
        " (4, 3264)\n",
        "Processing clip 0\n",
        "[ 0  0  0 ..., 32 32 32]\n",
        "108\n",
        "(108, 3, 96, 96)\n",
        "Processing clip 1\n",
        "[ 0  0  0 ..., 32 32 32]\n",
        "111\n",
        "(111, 3, 96, 96)\n",
        "Processing clip 2"
       ]
      },
      {
       "output_type": "stream",
       "stream": "stdout",
       "text": [
        "\n",
        "[ 0  0  0 ..., 32 32 32]\n",
        "116\n",
        "(116, 3, 96, 96)\n",
        "Processing clip 3\n",
        "[ 0  0  0 ..., 32 32 32]\n",
        "96\n",
        "(96, 3, 96, 96)\n",
        "Processing clip 4"
       ]
      },
      {
       "output_type": "stream",
       "stream": "stdout",
       "text": [
        "\n",
        "[ 0  0  0 ..., 32 32 32]\n",
        "106\n",
        "(106, 3, 96, 96)\n",
        "Processing clip 5\n",
        "[ 0  0  0 ..., 32 32 32]\n",
        "103\n",
        "(103, 3, 96, 96)\n",
        "Processing clip 6"
       ]
      },
      {
       "output_type": "stream",
       "stream": "stdout",
       "text": [
        "\n",
        "[ 0  0  0 ..., 32 32 32]\n",
        "87\n",
        "(87, 3, 96, 96)\n",
        "Processing clip 7\n",
        "[ 0  0  0 ..., 32 32 32]\n",
        "88\n",
        "(88, 3, 96, 96)\n",
        "Processing clip 8\n",
        "[ 0  0  0 ..., 32 32 32]\n",
        "83\n",
        "(83, 3, 96, 96)\n",
        "Processing clip 9"
       ]
      },
      {
       "output_type": "stream",
       "stream": "stdout",
       "text": [
        "\n",
        "[ 0  0  0 ..., 32 32 32]\n",
        "85\n",
        "(85, 3, 96, 96)\n",
        "Processing clip 10\n",
        "[ 0  0  0 ..., 32 32 32]\n",
        "100\n",
        "(100, 3, 96, 96)\n",
        "Processing clip 11\n",
        "[ 0  0  0 ..., 32 32 32]\n",
        "80\n",
        "(80, 3, 96, 96)\n",
        "Processing clip 12"
       ]
      },
      {
       "output_type": "stream",
       "stream": "stdout",
       "text": [
        "\n",
        "[ 0  0  0 ..., 32 32 32]\n",
        "75\n",
        "(75, 3, 96, 96)\n",
        "Processing clip 13\n",
        "[ 0  0  0 ..., 32 32 32]\n",
        "80\n",
        "(80, 3, 96, 96)\n",
        "Processing clip 14\n",
        "[ 0  0  0 ..., 32 32 32]\n",
        "76\n",
        "(76, 3, 96, 96)\n",
        "Processing clip 15"
       ]
      },
      {
       "output_type": "stream",
       "stream": "stdout",
       "text": [
        "\n",
        "[ 0  0  0 ..., 32 32 32]\n",
        "84\n",
        "(84, 3, 96, 96)\n",
        "Processing clip 16\n",
        "[ 0  0  0 ..., 32 32 32]\n",
        "95\n",
        "(95, 3, 96, 96)\n",
        "Processing clip 17\n",
        "[ 0  0  0 ..., 32 32 32]\n",
        "88\n",
        "(88, 3, 96, 96)\n",
        "Processing clip 18"
       ]
      },
      {
       "output_type": "stream",
       "stream": "stdout",
       "text": [
        "\n",
        "[ 0  0  0 ..., 32 32 32]\n",
        "121\n",
        "(121, 3, 96, 96)\n",
        "Processing clip 19\n",
        "[ 0  0  0 ..., 32 32 32]\n",
        "138\n",
        "(138, 3, 96, 96)\n",
        "Processing clip 20"
       ]
      },
      {
       "output_type": "stream",
       "stream": "stdout",
       "text": [
        "\n",
        "[ 0  0  0 ..., 32 32 32]\n",
        "144\n",
        "(144, 3, 96, 96)\n",
        "Processing clip 21\n",
        "[ 0  0  0 ..., 32 32 32]\n",
        "109\n",
        "(109, 3, 96, 96)\n",
        "Processing clip 22"
       ]
      },
      {
       "output_type": "stream",
       "stream": "stdout",
       "text": [
        "\n",
        "[ 0  0  0 ..., 32 32 32]\n",
        "119\n",
        "(119, 3, 96, 96)\n",
        "Processing clip 23\n",
        "[ 0  0  0 ..., 32 32 32]\n",
        "129\n",
        "(129, 3, 96, 96)\n",
        "Processing clip 24"
       ]
      },
      {
       "output_type": "stream",
       "stream": "stdout",
       "text": [
        "\n",
        "[ 0  0  0 ..., 32 32 32]\n",
        "106\n",
        "(106, 3, 96, 96)\n",
        "Processing clip 25\n",
        "[ 0  0  0 ..., 32 32 32]\n",
        "106\n",
        "(106, 3, 96, 96)\n",
        "Processing clip 26"
       ]
      },
      {
       "output_type": "stream",
       "stream": "stdout",
       "text": [
        "\n",
        "[ 0  0  0 ..., 32 32 32]\n",
        "108\n",
        "(108, 3, 96, 96)\n",
        "Processing clip 27\n",
        "[ 0  0  0 ..., 32 32 32]\n",
        "81\n",
        "(81, 3, 96, 96)\n",
        "Processing clip 28\n",
        "[ 0  0  0 ..., 32 32 32]\n",
        "102\n",
        "(102, 3, 96, 96)\n",
        "Processing clip 29"
       ]
      },
      {
       "output_type": "stream",
       "stream": "stdout",
       "text": [
        "\n",
        "[ 0  0  0 ..., 32 32 32]\n",
        "89\n",
        "(89, 3, 96, 96)\n",
        "Processing clip 30\n",
        "[ 0  0  0 ..., 32 32 32]\n",
        "89\n",
        "(89, 3, 96, 96)\n",
        "Processing clip 31\n",
        "[ 0  0  0 ..., 32 32 32]\n",
        "82\n",
        "(82, 3, 96, 96)\n",
        "Processing clip 32"
       ]
      },
      {
       "output_type": "stream",
       "stream": "stdout",
       "text": [
        "\n",
        "[ 0  0  0 ..., 32 32 32]\n",
        "80\n",
        "(80, 3, 96, 96)\n"
       ]
      }
     ],
     "prompt_number": 4
    },
    {
     "cell_type": "code",
     "collapsed": false,
     "input": [],
     "language": "python",
     "metadata": {},
     "outputs": []
    },
    {
     "cell_type": "code",
     "collapsed": false,
     "input": [],
     "language": "python",
     "metadata": {},
     "outputs": []
    },
    {
     "cell_type": "code",
     "collapsed": false,
     "input": [
      "# Generate clips for just the male subjects @ original resolution\n",
      "male_subjs = ['03', '26', '46', '61', '68', '81', '82', '85', '87', '90']\n",
      "\n",
      "img_dims = (352, 240)\n",
      "\n",
      "for subj_id in ['90']:#male_subjs:\n",
      "    X = numpy.load('./gender_test/X_'+subj_id+'.npy')\n",
      "    X = X.transpose(0, 3, 1, 2)\n",
      "    y = numpy.load('./gender_test/y_'+subj_id+'.npy')\n",
      "    print X.shape, y.shape\n",
      "    \n",
      "    save_path = os.path.join('./gender_test_clips/', 'clips_'+subj_id+'/')\n",
      "    \n",
      "    for i in range(33):\n",
      "        print 'Processing clip %d' % i\n",
      "        generate_clip(X, y, i, img_dims, save_path)"
     ],
     "language": "python",
     "metadata": {},
     "outputs": [
      {
       "output_type": "stream",
       "stream": "stdout",
       "text": [
        "(2701, 3, 240, 352) (4, 2701)\n",
        "Processing clip 0\n",
        "[ 0  0  0 ..., 32 32 32]\n",
        "91\n",
        "(91, 3, 240, 352)\n",
        "Processing clip 1"
       ]
      },
      {
       "output_type": "stream",
       "stream": "stdout",
       "text": [
        "\n",
        "[ 0  0  0 ..., 32 32 32]\n",
        "88\n",
        "(88, 3, 240, 352)\n",
        "Processing clip 2"
       ]
      },
      {
       "output_type": "stream",
       "stream": "stdout",
       "text": [
        "\n",
        "[ 0  0  0 ..., 32 32 32]\n",
        "88\n",
        "(88, 3, 240, 352)\n",
        "Processing clip 3"
       ]
      },
      {
       "output_type": "stream",
       "stream": "stdout",
       "text": [
        "\n",
        "[ 0  0  0 ..., 32 32 32]\n",
        "87\n",
        "(87, 3, 240, 352)\n",
        "Processing clip 4"
       ]
      },
      {
       "output_type": "stream",
       "stream": "stdout",
       "text": [
        "\n",
        "[ 0  0  0 ..., 32 32 32]\n",
        "67\n",
        "(67, 3, 240, 352)\n",
        "Processing clip 5"
       ]
      },
      {
       "output_type": "stream",
       "stream": "stdout",
       "text": [
        "\n",
        "[ 0  0  0 ..., 32 32 32]\n",
        "82\n",
        "(82, 3, 240, 352)\n",
        "Processing clip 6"
       ]
      },
      {
       "output_type": "stream",
       "stream": "stdout",
       "text": [
        "\n",
        "[ 0  0  0 ..., 32 32 32]\n",
        "95\n",
        "(95, 3, 240, 352)\n",
        "Processing clip 7"
       ]
      },
      {
       "output_type": "stream",
       "stream": "stdout",
       "text": [
        "\n",
        "[ 0  0  0 ..., 32 32 32]\n",
        "87\n",
        "(87, 3, 240, 352)\n",
        "Processing clip 8"
       ]
      },
      {
       "output_type": "stream",
       "stream": "stdout",
       "text": [
        "\n",
        "[ 0  0  0 ..., 32 32 32]\n",
        "87\n",
        "(87, 3, 240, 352)\n",
        "Processing clip 9"
       ]
      },
      {
       "output_type": "stream",
       "stream": "stdout",
       "text": [
        "\n",
        "[ 0  0  0 ..., 32 32 32]\n",
        "71\n",
        "(71, 3, 240, 352)\n",
        "Processing clip 10"
       ]
      },
      {
       "output_type": "stream",
       "stream": "stdout",
       "text": [
        "\n",
        "[ 0  0  0 ..., 32 32 32]\n",
        "73\n",
        "(73, 3, 240, 352)\n",
        "Processing clip 11"
       ]
      },
      {
       "output_type": "stream",
       "stream": "stdout",
       "text": [
        "\n",
        "[ 0  0  0 ..., 32 32 32]\n",
        "72\n",
        "(72, 3, 240, 352)\n",
        "Processing clip 12"
       ]
      },
      {
       "output_type": "stream",
       "stream": "stdout",
       "text": [
        "\n",
        "[ 0  0  0 ..., 32 32 32]\n",
        "91\n",
        "(91, 3, 240, 352)\n",
        "Processing clip 13"
       ]
      },
      {
       "output_type": "stream",
       "stream": "stdout",
       "text": [
        "\n",
        "[ 0  0  0 ..., 32 32 32]\n",
        "83\n",
        "(83, 3, 240, 352)\n",
        "Processing clip 14"
       ]
      },
      {
       "output_type": "stream",
       "stream": "stdout",
       "text": [
        "\n",
        "[ 0  0  0 ..., 32 32 32]\n",
        "64\n",
        "(64, 3, 240, 352)\n",
        "Processing clip 15"
       ]
      },
      {
       "output_type": "stream",
       "stream": "stdout",
       "text": [
        "\n",
        "[ 0  0  0 ..., 32 32 32]\n",
        "68\n",
        "(68, 3, 240, 352)\n",
        "Processing clip 16"
       ]
      },
      {
       "output_type": "stream",
       "stream": "stdout",
       "text": [
        "\n",
        "[ 0  0  0 ..., 32 32 32]\n",
        "63\n",
        "(63, 3, 240, 352)\n",
        "Processing clip 17"
       ]
      },
      {
       "output_type": "stream",
       "stream": "stdout",
       "text": [
        "\n",
        "[ 0  0  0 ..., 32 32 32]\n",
        "62\n",
        "(62, 3, 240, 352)\n",
        "Processing clip 18"
       ]
      },
      {
       "output_type": "stream",
       "stream": "stdout",
       "text": [
        "\n",
        "[ 0  0  0 ..., 32 32 32]\n",
        "119\n",
        "(119, 3, 240, 352)\n",
        "Processing clip 19"
       ]
      },
      {
       "output_type": "stream",
       "stream": "stdout",
       "text": [
        "\n",
        "[ 0  0  0 ..., 32 32 32]\n",
        "120\n",
        "(120, 3, 240, 352)\n",
        "Processing clip 20"
       ]
      },
      {
       "output_type": "stream",
       "stream": "stdout",
       "text": [
        "\n",
        "[ 0  0  0 ..., 32 32 32]\n",
        "112\n",
        "(112, 3, 240, 352)\n",
        "Processing clip 21"
       ]
      },
      {
       "output_type": "stream",
       "stream": "stdout",
       "text": [
        "\n",
        "[ 0  0  0 ..., 32 32 32]\n",
        "98\n",
        "(98, 3, 240, 352)\n",
        "Processing clip 22"
       ]
      },
      {
       "output_type": "stream",
       "stream": "stdout",
       "text": [
        "\n",
        "[ 0  0  0 ..., 32 32 32]\n",
        "93\n",
        "(93, 3, 240, 352)\n",
        "Processing clip 23"
       ]
      },
      {
       "output_type": "stream",
       "stream": "stdout",
       "text": [
        "\n",
        "[ 0  0  0 ..., 32 32 32]\n",
        "107\n",
        "(107, 3, 240, 352)\n",
        "Processing clip 24"
       ]
      },
      {
       "output_type": "stream",
       "stream": "stdout",
       "text": [
        "\n",
        "[ 0  0  0 ..., 32 32 32]\n",
        "77\n",
        "(77, 3, 240, 352)\n",
        "Processing clip 25"
       ]
      },
      {
       "output_type": "stream",
       "stream": "stdout",
       "text": [
        "\n",
        "[ 0  0  0 ..., 32 32 32]\n",
        "71\n",
        "(71, 3, 240, 352)\n",
        "Processing clip 26"
       ]
      },
      {
       "output_type": "stream",
       "stream": "stdout",
       "text": [
        "\n",
        "[ 0  0  0 ..., 32 32 32]\n",
        "69\n",
        "(69, 3, 240, 352)\n",
        "Processing clip 27"
       ]
      },
      {
       "output_type": "stream",
       "stream": "stdout",
       "text": [
        "\n",
        "[ 0  0  0 ..., 32 32 32]\n",
        "67\n",
        "(67, 3, 240, 352)\n",
        "Processing clip 28"
       ]
      },
      {
       "output_type": "stream",
       "stream": "stdout",
       "text": [
        "\n",
        "[ 0  0  0 ..., 32 32 32]\n",
        "68\n",
        "(68, 3, 240, 352)\n",
        "Processing clip 29"
       ]
      },
      {
       "output_type": "stream",
       "stream": "stdout",
       "text": [
        "\n",
        "[ 0  0  0 ..., 32 32 32]\n",
        "62\n",
        "(62, 3, 240, 352)\n",
        "Processing clip 30"
       ]
      },
      {
       "output_type": "stream",
       "stream": "stdout",
       "text": [
        "\n",
        "[ 0  0  0 ..., 32 32 32]\n",
        "72\n",
        "(72, 3, 240, 352)\n",
        "Processing clip 31"
       ]
      },
      {
       "output_type": "stream",
       "stream": "stdout",
       "text": [
        "\n",
        "[ 0  0  0 ..., 32 32 32]\n",
        "72\n",
        "(72, 3, 240, 352)\n",
        "Processing clip 32"
       ]
      },
      {
       "output_type": "stream",
       "stream": "stdout",
       "text": [
        "\n",
        "[ 0  0  0 ..., 32 32 32]\n",
        "75\n",
        "(75, 3, 240, 352)\n"
       ]
      }
     ],
     "prompt_number": 4
    },
    {
     "cell_type": "code",
     "collapsed": false,
     "input": [],
     "language": "python",
     "metadata": {},
     "outputs": []
    }
   ],
   "metadata": {}
  }
 ]
}